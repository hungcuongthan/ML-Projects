{
  "nbformat": 4,
  "nbformat_minor": 0,
  "metadata": {
    "colab": {
      "name": "ANN_Regression_Tutorial_1.ipynb",
      "private_outputs": true,
      "provenance": [],
      "authorship_tag": "ABX9TyMEBQKRMUny68wG/Y2qdh2F",
      "include_colab_link": true
    },
    "kernelspec": {
      "name": "python3",
      "display_name": "Python 3"
    },
    "language_info": {
      "name": "python"
    }
  },
  "cells": [
    {
      "cell_type": "markdown",
      "metadata": {
        "id": "view-in-github",
        "colab_type": "text"
      },
      "source": [
        "<a href=\"https://colab.research.google.com/github/hungcuongthan/ML-Projects/blob/main/ANN/ANN_Regression_Tutorial_1.ipynb\" target=\"_parent\"><img src=\"https://colab.research.google.com/assets/colab-badge.svg\" alt=\"Open In Colab\"/></a>"
      ]
    },
    {
      "cell_type": "code",
      "metadata": {
        "id": "AWRngTQ9Mo0i"
      },
      "source": [
        "import tensorflow as tf\n",
        "import numpy as np\n",
        "import matplotlib.pyplot as plt\n",
        "\n",
        "from mpl_toolkits.mplot3d import Axes3D"
      ],
      "execution_count": null,
      "outputs": []
    },
    {
      "cell_type": "code",
      "metadata": {
        "id": "jy7jO00Gz1-H"
      },
      "source": [
        "#Generate the data set\n",
        "\n",
        "N = 1000\n",
        "X = np.random.random((N,2))*6-3\n",
        "Y = np.cos(2*X[:,0]) + np.cos(3*X[:,1])"
      ],
      "execution_count": null,
      "outputs": []
    },
    {
      "cell_type": "code",
      "metadata": {
        "id": "tjN4JBbU0lC9"
      },
      "source": [
        "fig = plt.figure()\n",
        "\n",
        "ax= fig.add_subplot(111,projection = '3d')\n",
        "ax.scatter(X[:,0],X[:,1],Y)"
      ],
      "execution_count": null,
      "outputs": []
    },
    {
      "cell_type": "code",
      "metadata": {
        "id": "WYfMIneW1EMh"
      },
      "source": [
        "model = tf.keras.models.Sequential([\n",
        "                                    tf.keras.layers.Dense(128, input_shape = (2,),activation= 'relu'),\n",
        "                                    tf.keras.layers.Dense(1) #Regression task doesnt need activation fuction for output layer\n",
        "])"
      ],
      "execution_count": null,
      "outputs": []
    },
    {
      "cell_type": "code",
      "metadata": {
        "id": "Tc637cNu1shd"
      },
      "source": [
        "model.compile(optimizer = 'adam',loss = 'mse')\n",
        "r = model.fit(X,Y, epochs = 100)\n"
      ],
      "execution_count": null,
      "outputs": []
    },
    {
      "cell_type": "code",
      "metadata": {
        "id": "zibjAPxS2Hjj"
      },
      "source": [
        "plt.plot(r.history['loss'],label = 'loss')\n"
      ],
      "execution_count": null,
      "outputs": []
    },
    {
      "cell_type": "code",
      "metadata": {
        "id": "MBHnxs3M3dYp"
      },
      "source": [
        "# Plot the prediction surface\n",
        "fig = plt.figure()\n",
        "ax = fig.add_subplot(111, projection='3d')\n",
        "ax.scatter(X[:,0], X[:,1], Y)\n",
        "\n",
        "# surface plot\n",
        "line = np.linspace(-3, 3, 50)\n",
        "xx, yy = np.meshgrid(line, line)\n",
        "Xgrid = np.vstack((xx.flatten(), yy.flatten())).T\n",
        "Yhat = model.predict(Xgrid).flatten()\n",
        "ax.plot_trisurf(Xgrid[:,0], Xgrid[:,1], Yhat, linewidth=0.2, antialiased=True)\n",
        "plt.show()"
      ],
      "execution_count": null,
      "outputs": []
    },
    {
      "cell_type": "code",
      "metadata": {
        "id": "9xSW_Fmn5Msw"
      },
      "source": [
        "# Can it extrapolate?\n",
        "# Plot the prediction surface\n",
        "fig = plt.figure()\n",
        "ax = fig.add_subplot(111, projection='3d')\n",
        "ax.scatter(X[:,0], X[:,1], Y)\n",
        "\n",
        "# surface plot\n",
        "line = np.linspace(-5, 5, 50)\n",
        "xx, yy = np.meshgrid(line, line)\n",
        "Xgrid = np.vstack((xx.flatten(), yy.flatten())).T\n",
        "Yhat = model.predict(Xgrid).flatten()\n",
        "ax.plot_trisurf(Xgrid[:,0], Xgrid[:,1], Yhat, linewidth=0.2, antialiased=True)\n",
        "plt.show()"
      ],
      "execution_count": null,
      "outputs": []
    },
    {
      "cell_type": "code",
      "metadata": {
        "id": "QVzLa23d5Y-9"
      },
      "source": [
        "|"
      ],
      "execution_count": null,
      "outputs": []
    }
  ]
}