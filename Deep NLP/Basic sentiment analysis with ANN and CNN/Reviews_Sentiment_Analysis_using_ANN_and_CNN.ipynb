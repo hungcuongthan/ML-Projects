{
  "nbformat": 4,
  "nbformat_minor": 0,
  "metadata": {
    "colab": {
      "name": "Reviews Sentiment Analysis using ANN and CNN.ipynb",
      "provenance": []
    },
    "kernelspec": {
      "name": "python3",
      "display_name": "Python 3"
    },
    "language_info": {
      "name": "python"
    }
  },
  "cells": [
    {
      "cell_type": "markdown",
      "metadata": {
        "id": "mvy-SZB_DmLp"
      },
      "source": [
        "# 1. Import packages and collect data"
      ]
    },
    {
      "cell_type": "code",
      "metadata": {
        "colab": {
          "base_uri": "https://localhost:8080/"
        },
        "id": "GxHFeP_mAf0K",
        "outputId": "5cfdb59a-f017-47c6-f69f-a4093e7c125c"
      },
      "source": [
        "import tensorflow as tf\n",
        "print(tf.__version__)"
      ],
      "execution_count": 1,
      "outputs": [
        {
          "output_type": "stream",
          "text": [
            "2.5.0\n"
          ],
          "name": "stdout"
        }
      ]
    },
    {
      "cell_type": "code",
      "metadata": {
        "colab": {
          "base_uri": "https://localhost:8080/"
        },
        "id": "JaQz89ZpA_R7",
        "outputId": "b99146d6-8a14-4a68-e5c8-dac85d1013ad"
      },
      "source": [
        "# pip install spacy==2.2.3\n",
        "!python -m spacy download en_core_web_lg\n",
        "!pip install beautifulsoup4==4.9.1\n",
        "!pip install textblob==0.15.3\n",
        "!pip install mlxtend\n",
        "\n",
        "!pip install git+https://github.com/laxmimerit/preprocess_kgptalkie.git --upgrade --force-reinstall"
      ],
      "execution_count": 6,
      "outputs": [
        {
          "output_type": "stream",
          "text": [
            "Collecting en_core_web_lg==2.2.5\n",
            "  Downloading https://github.com/explosion/spacy-models/releases/download/en_core_web_lg-2.2.5/en_core_web_lg-2.2.5.tar.gz (827.9 MB)\n",
            "\u001b[K     |████████████████████████████████| 827.9 MB 1.2 MB/s \n",
            "\u001b[?25hRequirement already satisfied: spacy>=2.2.2 in /usr/local/lib/python3.7/dist-packages (from en_core_web_lg==2.2.5) (2.2.4)\n",
            "Requirement already satisfied: cymem<2.1.0,>=2.0.2 in /usr/local/lib/python3.7/dist-packages (from spacy>=2.2.2->en_core_web_lg==2.2.5) (2.0.5)\n",
            "Requirement already satisfied: preshed<3.1.0,>=3.0.2 in /usr/local/lib/python3.7/dist-packages (from spacy>=2.2.2->en_core_web_lg==2.2.5) (3.0.5)\n",
            "Requirement already satisfied: blis<0.5.0,>=0.4.0 in /usr/local/lib/python3.7/dist-packages (from spacy>=2.2.2->en_core_web_lg==2.2.5) (0.4.1)\n",
            "Requirement already satisfied: murmurhash<1.1.0,>=0.28.0 in /usr/local/lib/python3.7/dist-packages (from spacy>=2.2.2->en_core_web_lg==2.2.5) (1.0.5)\n",
            "Requirement already satisfied: requests<3.0.0,>=2.13.0 in /usr/local/lib/python3.7/dist-packages (from spacy>=2.2.2->en_core_web_lg==2.2.5) (2.23.0)\n",
            "Requirement already satisfied: thinc==7.4.0 in /usr/local/lib/python3.7/dist-packages (from spacy>=2.2.2->en_core_web_lg==2.2.5) (7.4.0)\n",
            "Requirement already satisfied: tqdm<5.0.0,>=4.38.0 in /usr/local/lib/python3.7/dist-packages (from spacy>=2.2.2->en_core_web_lg==2.2.5) (4.41.1)\n",
            "Requirement already satisfied: setuptools in /usr/local/lib/python3.7/dist-packages (from spacy>=2.2.2->en_core_web_lg==2.2.5) (57.2.0)\n",
            "Requirement already satisfied: numpy>=1.15.0 in /usr/local/lib/python3.7/dist-packages (from spacy>=2.2.2->en_core_web_lg==2.2.5) (1.19.5)\n",
            "Requirement already satisfied: catalogue<1.1.0,>=0.0.7 in /usr/local/lib/python3.7/dist-packages (from spacy>=2.2.2->en_core_web_lg==2.2.5) (1.0.0)\n",
            "Requirement already satisfied: wasabi<1.1.0,>=0.4.0 in /usr/local/lib/python3.7/dist-packages (from spacy>=2.2.2->en_core_web_lg==2.2.5) (0.8.2)\n",
            "Requirement already satisfied: srsly<1.1.0,>=1.0.2 in /usr/local/lib/python3.7/dist-packages (from spacy>=2.2.2->en_core_web_lg==2.2.5) (1.0.5)\n",
            "Requirement already satisfied: plac<1.2.0,>=0.9.6 in /usr/local/lib/python3.7/dist-packages (from spacy>=2.2.2->en_core_web_lg==2.2.5) (1.1.3)\n",
            "Requirement already satisfied: importlib-metadata>=0.20 in /usr/local/lib/python3.7/dist-packages (from catalogue<1.1.0,>=0.0.7->spacy>=2.2.2->en_core_web_lg==2.2.5) (4.6.1)\n",
            "Requirement already satisfied: zipp>=0.5 in /usr/local/lib/python3.7/dist-packages (from importlib-metadata>=0.20->catalogue<1.1.0,>=0.0.7->spacy>=2.2.2->en_core_web_lg==2.2.5) (3.5.0)\n",
            "Requirement already satisfied: typing-extensions>=3.6.4 in /usr/local/lib/python3.7/dist-packages (from importlib-metadata>=0.20->catalogue<1.1.0,>=0.0.7->spacy>=2.2.2->en_core_web_lg==2.2.5) (3.7.4.3)\n",
            "Requirement already satisfied: idna<3,>=2.5 in /usr/local/lib/python3.7/dist-packages (from requests<3.0.0,>=2.13.0->spacy>=2.2.2->en_core_web_lg==2.2.5) (2.10)\n",
            "Requirement already satisfied: urllib3!=1.25.0,!=1.25.1,<1.26,>=1.21.1 in /usr/local/lib/python3.7/dist-packages (from requests<3.0.0,>=2.13.0->spacy>=2.2.2->en_core_web_lg==2.2.5) (1.24.3)\n",
            "Requirement already satisfied: certifi>=2017.4.17 in /usr/local/lib/python3.7/dist-packages (from requests<3.0.0,>=2.13.0->spacy>=2.2.2->en_core_web_lg==2.2.5) (2021.5.30)\n",
            "Requirement already satisfied: chardet<4,>=3.0.2 in /usr/local/lib/python3.7/dist-packages (from requests<3.0.0,>=2.13.0->spacy>=2.2.2->en_core_web_lg==2.2.5) (3.0.4)\n",
            "Building wheels for collected packages: en-core-web-lg\n",
            "  Building wheel for en-core-web-lg (setup.py) ... \u001b[?25l\u001b[?25hdone\n",
            "  Created wheel for en-core-web-lg: filename=en_core_web_lg-2.2.5-py3-none-any.whl size=829180943 sha256=c68cfc729e9ca8b675445b172e82faf51bb635e0ae100ce2ee73954f854df8c7\n",
            "  Stored in directory: /tmp/pip-ephem-wheel-cache-9a20r2nq/wheels/11/95/ba/2c36cc368c0bd339b44a791c2c1881a1fb714b78c29a4cb8f5\n",
            "Successfully built en-core-web-lg\n",
            "Installing collected packages: en-core-web-lg\n",
            "Successfully installed en-core-web-lg-2.2.5\n",
            "\u001b[38;5;2m✔ Download and installation successful\u001b[0m\n",
            "You can now load the model via spacy.load('en_core_web_lg')\n"
          ],
          "name": "stdout"
        }
      ]
    },
    {
      "cell_type": "code",
      "metadata": {
        "id": "wNsHerQgAkoC"
      },
      "source": [
        "import pandas as pd\n",
        "import numpy as np\n",
        "import spacy\n",
        "\n",
        "import preprocess_kgptalkie as ps\n",
        "import re\n",
        "import matplotlib.pyplot as plt\n",
        "from sklearn.model_selection import train_test_split\n",
        "from sklearn.metrics import confusion_matrix, classification_report\n",
        "from sklearn.preprocessing import MinMaxScaler\n",
        "\n",
        "from tensorflow import keras\n",
        "from tensorflow.keras import Sequential\n",
        "from tensorflow.keras.layers import Flatten, Dense, Conv1D,BatchNormalization,Dropout\n",
        "from tensorflow.keras.optimizers import Adam\n",
        "\n",
        "from mlxtend.plotting import plot_confusion_matrix"
      ],
      "execution_count": 78,
      "outputs": []
    },
    {
      "cell_type": "code",
      "metadata": {
        "id": "xV7j9zePAn_i"
      },
      "source": [
        "dataset_link = 'https://raw.githubusercontent.com/laxmimerit/NLP-Tutorial-8---Sentiment-Classification-using-SpaCy-for-IMDB-and-Amazon-Review-Dataset/master/datasets/imdb_labelled.txt'\n",
        "\n",
        "df = pd.read_csv(dataset_link,sep = '\\t', header = None)\n",
        "df.columns = ['reviews','sentiment']"
      ],
      "execution_count": 11,
      "outputs": []
    },
    {
      "cell_type": "code",
      "metadata": {
        "colab": {
          "base_uri": "https://localhost:8080/",
          "height": 206
        },
        "id": "iy5o0W3KA1cc",
        "outputId": "54a083dc-6f99-4940-a2a1-535d0582dc84"
      },
      "source": [
        "#Preview our dataset\n",
        "df.head()"
      ],
      "execution_count": 12,
      "outputs": [
        {
          "output_type": "execute_result",
          "data": {
            "text/html": [
              "<div>\n",
              "<style scoped>\n",
              "    .dataframe tbody tr th:only-of-type {\n",
              "        vertical-align: middle;\n",
              "    }\n",
              "\n",
              "    .dataframe tbody tr th {\n",
              "        vertical-align: top;\n",
              "    }\n",
              "\n",
              "    .dataframe thead th {\n",
              "        text-align: right;\n",
              "    }\n",
              "</style>\n",
              "<table border=\"1\" class=\"dataframe\">\n",
              "  <thead>\n",
              "    <tr style=\"text-align: right;\">\n",
              "      <th></th>\n",
              "      <th>reviews</th>\n",
              "      <th>sentiment</th>\n",
              "    </tr>\n",
              "  </thead>\n",
              "  <tbody>\n",
              "    <tr>\n",
              "      <th>0</th>\n",
              "      <td>A very, very, very slow-moving, aimless movie ...</td>\n",
              "      <td>0</td>\n",
              "    </tr>\n",
              "    <tr>\n",
              "      <th>1</th>\n",
              "      <td>Not sure who was more lost - the flat characte...</td>\n",
              "      <td>0</td>\n",
              "    </tr>\n",
              "    <tr>\n",
              "      <th>2</th>\n",
              "      <td>Attempting artiness with black &amp; white and cle...</td>\n",
              "      <td>0</td>\n",
              "    </tr>\n",
              "    <tr>\n",
              "      <th>3</th>\n",
              "      <td>Very little music or anything to speak of.</td>\n",
              "      <td>0</td>\n",
              "    </tr>\n",
              "    <tr>\n",
              "      <th>4</th>\n",
              "      <td>The best scene in the movie was when Gerardo i...</td>\n",
              "      <td>1</td>\n",
              "    </tr>\n",
              "  </tbody>\n",
              "</table>\n",
              "</div>"
            ],
            "text/plain": [
              "                                             reviews  sentiment\n",
              "0  A very, very, very slow-moving, aimless movie ...          0\n",
              "1  Not sure who was more lost - the flat characte...          0\n",
              "2  Attempting artiness with black & white and cle...          0\n",
              "3       Very little music or anything to speak of.            0\n",
              "4  The best scene in the movie was when Gerardo i...          1"
            ]
          },
          "metadata": {
            "tags": []
          },
          "execution_count": 12
        }
      ]
    },
    {
      "cell_type": "markdown",
      "metadata": {
        "id": "CMj2UXvTD1iA"
      },
      "source": [
        "# 2. Data preprocessing"
      ]
    },
    {
      "cell_type": "markdown",
      "metadata": {
        "id": "v4bS17z0D_Rd"
      },
      "source": [
        "The reviews from the dataset still have some issues we have to deal with, such as special characters and upper case characters."
      ]
    },
    {
      "cell_type": "markdown",
      "metadata": {
        "id": "ah0dd83IFps5"
      },
      "source": [
        "## 2.1. Remove unneccessary information from the reviews"
      ]
    },
    {
      "cell_type": "code",
      "metadata": {
        "id": "5vhE3nFHDplb"
      },
      "source": [
        "def get_clean(x):\n",
        "    x = str(x).lower().replace('\\\\', '').replace('_', ' ')\n",
        "    x = ps.cont_exp(x) #convert contraction word to expansion word\n",
        "    x = ps.remove_emails(x)\n",
        "    x = ps.remove_urls(x)\n",
        "    x = ps.remove_html_tags(x)\n",
        "    x = ps.remove_rt(x) #remove retweet if any\n",
        "    x = ps.remove_accented_chars(x)\n",
        "    x = ps.remove_special_chars(x)\n",
        "    x = re.sub(\"(.)\\\\1{2,}\", \"\\\\1\", x)\n",
        "    return x"
      ],
      "execution_count": 13,
      "outputs": []
    },
    {
      "cell_type": "code",
      "metadata": {
        "id": "WvsJuZu-ETIl"
      },
      "source": [
        "df['reviews'] = df['reviews'].apply(lambda x: get_clean(x))"
      ],
      "execution_count": 16,
      "outputs": []
    },
    {
      "cell_type": "code",
      "metadata": {
        "colab": {
          "base_uri": "https://localhost:8080/",
          "height": 206
        },
        "id": "Xg-S7nNSEgWa",
        "outputId": "c9ff1a75-0ea5-49ce-d28b-31fa2958e5e7"
      },
      "source": [
        "df.head(5)"
      ],
      "execution_count": 19,
      "outputs": [
        {
          "output_type": "execute_result",
          "data": {
            "text/html": [
              "<div>\n",
              "<style scoped>\n",
              "    .dataframe tbody tr th:only-of-type {\n",
              "        vertical-align: middle;\n",
              "    }\n",
              "\n",
              "    .dataframe tbody tr th {\n",
              "        vertical-align: top;\n",
              "    }\n",
              "\n",
              "    .dataframe thead th {\n",
              "        text-align: right;\n",
              "    }\n",
              "</style>\n",
              "<table border=\"1\" class=\"dataframe\">\n",
              "  <thead>\n",
              "    <tr style=\"text-align: right;\">\n",
              "      <th></th>\n",
              "      <th>reviews</th>\n",
              "      <th>sentiment</th>\n",
              "    </tr>\n",
              "  </thead>\n",
              "  <tbody>\n",
              "    <tr>\n",
              "      <th>0</th>\n",
              "      <td>a very very very slowmoving aimless movie abou...</td>\n",
              "      <td>0</td>\n",
              "    </tr>\n",
              "    <tr>\n",
              "      <th>1</th>\n",
              "      <td>not sure who was more lost the flat characters...</td>\n",
              "      <td>0</td>\n",
              "    </tr>\n",
              "    <tr>\n",
              "      <th>2</th>\n",
              "      <td>attempting artiness with black white and cleve...</td>\n",
              "      <td>0</td>\n",
              "    </tr>\n",
              "    <tr>\n",
              "      <th>3</th>\n",
              "      <td>very little music or anything to speak of</td>\n",
              "      <td>0</td>\n",
              "    </tr>\n",
              "    <tr>\n",
              "      <th>4</th>\n",
              "      <td>the best scene in the movie was when gerardo i...</td>\n",
              "      <td>1</td>\n",
              "    </tr>\n",
              "  </tbody>\n",
              "</table>\n",
              "</div>"
            ],
            "text/plain": [
              "                                             reviews  sentiment\n",
              "0  a very very very slowmoving aimless movie abou...          0\n",
              "1  not sure who was more lost the flat characters...          0\n",
              "2  attempting artiness with black white and cleve...          0\n",
              "3          very little music or anything to speak of          0\n",
              "4  the best scene in the movie was when gerardo i...          1"
            ]
          },
          "metadata": {
            "tags": []
          },
          "execution_count": 19
        }
      ]
    },
    {
      "cell_type": "markdown",
      "metadata": {
        "id": "phyoyT58Fwt6"
      },
      "source": [
        "## 2.2. Get the word2vec"
      ]
    },
    {
      "cell_type": "markdown",
      "metadata": {
        "id": "5n69cCtcGOws"
      },
      "source": [
        "The word2vec method helps us create 300 dimensional vectors, each of which representing a review."
      ]
    },
    {
      "cell_type": "code",
      "metadata": {
        "id": "ZOtYAZZwE3dr"
      },
      "source": [
        "import en_core_web_lg"
      ],
      "execution_count": 20,
      "outputs": []
    },
    {
      "cell_type": "code",
      "metadata": {
        "id": "MeqcuWTQF42B"
      },
      "source": [
        "nlp = en_core_web_lg.load()"
      ],
      "execution_count": 21,
      "outputs": []
    },
    {
      "cell_type": "code",
      "metadata": {
        "id": "JyKD4rqnF_Yo"
      },
      "source": [
        "def get_vec(x):\n",
        "  doc = nlp(x)\n",
        "  vec = doc.vector\n",
        "  return vec"
      ],
      "execution_count": 22,
      "outputs": []
    },
    {
      "cell_type": "code",
      "metadata": {
        "id": "cOYvlBEdGJsx"
      },
      "source": [
        "df['vec'] = df['reviews'].apply(lambda x: get_vec(x))"
      ],
      "execution_count": 24,
      "outputs": []
    },
    {
      "cell_type": "code",
      "metadata": {
        "colab": {
          "base_uri": "https://localhost:8080/",
          "height": 206
        },
        "id": "JghtGH-EGLv-",
        "outputId": "f410ce37-045f-4c65-8a21-24707502755c"
      },
      "source": [
        "df.head()"
      ],
      "execution_count": 25,
      "outputs": [
        {
          "output_type": "execute_result",
          "data": {
            "text/html": [
              "<div>\n",
              "<style scoped>\n",
              "    .dataframe tbody tr th:only-of-type {\n",
              "        vertical-align: middle;\n",
              "    }\n",
              "\n",
              "    .dataframe tbody tr th {\n",
              "        vertical-align: top;\n",
              "    }\n",
              "\n",
              "    .dataframe thead th {\n",
              "        text-align: right;\n",
              "    }\n",
              "</style>\n",
              "<table border=\"1\" class=\"dataframe\">\n",
              "  <thead>\n",
              "    <tr style=\"text-align: right;\">\n",
              "      <th></th>\n",
              "      <th>reviews</th>\n",
              "      <th>sentiment</th>\n",
              "      <th>vec</th>\n",
              "    </tr>\n",
              "  </thead>\n",
              "  <tbody>\n",
              "    <tr>\n",
              "      <th>0</th>\n",
              "      <td>a very very very slowmoving aimless movie abou...</td>\n",
              "      <td>0</td>\n",
              "      <td>[-0.065427616, 0.105150685, -0.23944347, 0.127...</td>\n",
              "    </tr>\n",
              "    <tr>\n",
              "      <th>1</th>\n",
              "      <td>not sure who was more lost the flat characters...</td>\n",
              "      <td>0</td>\n",
              "      <td>[0.07790671, 0.1754548, -0.14305861, -0.021857...</td>\n",
              "    </tr>\n",
              "    <tr>\n",
              "      <th>2</th>\n",
              "      <td>attempting artiness with black white and cleve...</td>\n",
              "      <td>0</td>\n",
              "      <td>[-0.1621301, 0.004197893, -0.11855656, -0.1021...</td>\n",
              "    </tr>\n",
              "    <tr>\n",
              "      <th>3</th>\n",
              "      <td>very little music or anything to speak of</td>\n",
              "      <td>0</td>\n",
              "      <td>[-0.09093174, 0.25162372, -0.25681874, 0.15846...</td>\n",
              "    </tr>\n",
              "    <tr>\n",
              "      <th>4</th>\n",
              "      <td>the best scene in the movie was when gerardo i...</td>\n",
              "      <td>1</td>\n",
              "      <td>[0.08769195, 0.12695198, -0.097915664, -0.0435...</td>\n",
              "    </tr>\n",
              "  </tbody>\n",
              "</table>\n",
              "</div>"
            ],
            "text/plain": [
              "                                             reviews  ...                                                vec\n",
              "0  a very very very slowmoving aimless movie abou...  ...  [-0.065427616, 0.105150685, -0.23944347, 0.127...\n",
              "1  not sure who was more lost the flat characters...  ...  [0.07790671, 0.1754548, -0.14305861, -0.021857...\n",
              "2  attempting artiness with black white and cleve...  ...  [-0.1621301, 0.004197893, -0.11855656, -0.1021...\n",
              "3          very little music or anything to speak of  ...  [-0.09093174, 0.25162372, -0.25681874, 0.15846...\n",
              "4  the best scene in the movie was when gerardo i...  ...  [0.08769195, 0.12695198, -0.097915664, -0.0435...\n",
              "\n",
              "[5 rows x 3 columns]"
            ]
          },
          "metadata": {
            "tags": []
          },
          "execution_count": 25
        }
      ]
    },
    {
      "cell_type": "markdown",
      "metadata": {
        "id": "P2oWscxSG-LB"
      },
      "source": [
        "We still need to reshape the data in our vec column so that we can prepare our train and test sets"
      ]
    },
    {
      "cell_type": "code",
      "metadata": {
        "id": "gvjseQOmG3f4"
      },
      "source": [
        "y = df['sentiment']\n",
        "\n",
        "X = df['vec'].to_numpy()"
      ],
      "execution_count": 26,
      "outputs": []
    },
    {
      "cell_type": "code",
      "metadata": {
        "id": "ShwvEkfYHW8j"
      },
      "source": [
        "#Let's reshape X\n",
        "X = X.reshape((1,-1))\n",
        "X = np.concatenate(np.concatenate(X,axis = 0), axis = 0).reshape(-1,300)"
      ],
      "execution_count": 28,
      "outputs": []
    },
    {
      "cell_type": "code",
      "metadata": {
        "id": "OTfT4axzHX0k"
      },
      "source": [
        "# X = np.concatenate(np.concatenate(X,axis = 0), axis = 0).reshape(-1,300)"
      ],
      "execution_count": 29,
      "outputs": []
    },
    {
      "cell_type": "code",
      "metadata": {
        "colab": {
          "base_uri": "https://localhost:8080/"
        },
        "id": "L4wnEEV9H5_X",
        "outputId": "845f721f-b011-422f-ed8a-481b693f2bb4"
      },
      "source": [
        "df.shape,X.shape"
      ],
      "execution_count": 30,
      "outputs": [
        {
          "output_type": "execute_result",
          "data": {
            "text/plain": [
              "((748, 3), (748, 300))"
            ]
          },
          "metadata": {
            "tags": []
          },
          "execution_count": 30
        }
      ]
    },
    {
      "cell_type": "markdown",
      "metadata": {
        "id": "94dOZadBIA2c"
      },
      "source": [
        "Now, we finally have 300-dim vectors that represent our reviews."
      ]
    },
    {
      "cell_type": "markdown",
      "metadata": {
        "id": "IP42fBboIK8x"
      },
      "source": [
        "## 2.3. Prepare train set and test set"
      ]
    },
    {
      "cell_type": "code",
      "metadata": {
        "id": "-fubHwL2H9hj"
      },
      "source": [
        "X_train, X_test,y_train,y_test = train_test_split(X,y,test_size = 0.2, random_state = 1, stratify = y)"
      ],
      "execution_count": 32,
      "outputs": []
    },
    {
      "cell_type": "code",
      "metadata": {
        "colab": {
          "base_uri": "https://localhost:8080/"
        },
        "id": "lVq6JCd9IWJD",
        "outputId": "86f50d8e-4e31-4db3-c244-42db6b9e4ee7"
      },
      "source": [
        "X_train.shape,X_test.shape"
      ],
      "execution_count": 34,
      "outputs": [
        {
          "output_type": "execute_result",
          "data": {
            "text/plain": [
              "((598, 300), (150, 300))"
            ]
          },
          "metadata": {
            "tags": []
          },
          "execution_count": 34
        }
      ]
    },
    {
      "cell_type": "code",
      "metadata": {
        "colab": {
          "base_uri": "https://localhost:8080/"
        },
        "id": "XeKHmzteIa9F",
        "outputId": "6cacf55d-902c-4337-bbf8-f11089e01602"
      },
      "source": [
        "np.min(X_train)"
      ],
      "execution_count": 35,
      "outputs": [
        {
          "output_type": "execute_result",
          "data": {
            "text/plain": [
              "-2.7673"
            ]
          },
          "metadata": {
            "tags": []
          },
          "execution_count": 35
        }
      ]
    },
    {
      "cell_type": "code",
      "metadata": {
        "colab": {
          "base_uri": "https://localhost:8080/"
        },
        "id": "q1YaULP6Ix-S",
        "outputId": "71c28386-0f44-40c6-df5c-ebab47b03d62"
      },
      "source": [
        "np.max(X_train)"
      ],
      "execution_count": 36,
      "outputs": [
        {
          "output_type": "execute_result",
          "data": {
            "text/plain": [
              "2.7844598"
            ]
          },
          "metadata": {
            "tags": []
          },
          "execution_count": 36
        }
      ]
    },
    {
      "cell_type": "markdown",
      "metadata": {
        "id": "1E0GC8AuI2_i"
      },
      "source": [
        "## 2.4. Features Standardization"
      ]
    },
    {
      "cell_type": "markdown",
      "metadata": {
        "id": "6lYKMzW-JHx0"
      },
      "source": [
        "Let's standardize our dataset to 0-1 scale"
      ]
    },
    {
      "cell_type": "code",
      "metadata": {
        "id": "FGc_2M7dI_wF"
      },
      "source": [
        "scaler = MinMaxScaler()\n",
        "X_train = scaler.fit_transform(X_train)\n",
        "X_test = scaler.transform(X_test)"
      ],
      "execution_count": 38,
      "outputs": []
    },
    {
      "cell_type": "code",
      "metadata": {
        "colab": {
          "base_uri": "https://localhost:8080/"
        },
        "id": "dnct87p0JTDZ",
        "outputId": "59d4682e-bf69-4283-8277-a37a9bd69a76"
      },
      "source": [
        "np.min(X_train)"
      ],
      "execution_count": 39,
      "outputs": [
        {
          "output_type": "execute_result",
          "data": {
            "text/plain": [
              "0.0"
            ]
          },
          "metadata": {
            "tags": []
          },
          "execution_count": 39
        }
      ]
    },
    {
      "cell_type": "code",
      "metadata": {
        "colab": {
          "base_uri": "https://localhost:8080/"
        },
        "id": "Fqc457b6JV0W",
        "outputId": "c820fae2-0762-431a-d8bc-65b7d6ab324f"
      },
      "source": [
        "np.max(X_train)"
      ],
      "execution_count": 40,
      "outputs": [
        {
          "output_type": "execute_result",
          "data": {
            "text/plain": [
              "1.0000001"
            ]
          },
          "metadata": {
            "tags": []
          },
          "execution_count": 40
        }
      ]
    },
    {
      "cell_type": "markdown",
      "metadata": {
        "id": "ViQMuFFGMyRj"
      },
      "source": [
        "# 3. Build and Train an ANN model"
      ]
    },
    {
      "cell_type": "code",
      "metadata": {
        "colab": {
          "base_uri": "https://localhost:8080/"
        },
        "id": "-L6omC7hJZNh",
        "outputId": "68477708-364b-4603-ca56-2a13ae5cadc1"
      },
      "source": [
        "model = Sequential()\n",
        "model.add(Dense(units = 128, activation = 'relu',input_dim = X.shape[1]))\n",
        "model.add(Dense(128, activation = 'relu'))\n",
        "model.add(Dense(128, activation = 'relu'))\n",
        "model.add(Dense(1, activation = 'sigmoid'))\n",
        "\n",
        "#compile the model\n",
        "model.compile(optimizer = Adam(learning_rate = 0.0005),loss = 'binary_crossentropy',metrics = ['accuracy'])"
      ],
      "execution_count": 43,
      "outputs": [
        {
          "output_type": "stream",
          "text": [
            "/usr/local/lib/python3.7/dist-packages/tensorflow/python/keras/optimizer_v2/optimizer_v2.py:375: UserWarning: The `lr` argument is deprecated, use `learning_rate` instead.\n",
            "  \"The `lr` argument is deprecated, use `learning_rate` instead.\")\n"
          ],
          "name": "stderr"
        }
      ]
    },
    {
      "cell_type": "code",
      "metadata": {
        "colab": {
          "base_uri": "https://localhost:8080/"
        },
        "id": "4DDJPFmBNIG6",
        "outputId": "ddbe5d28-36f2-4e84-e235-248ab96e4882"
      },
      "source": [
        "model.fit(X_train,y_train,batch_size = 4, epochs = 20)"
      ],
      "execution_count": 44,
      "outputs": [
        {
          "output_type": "stream",
          "text": [
            "Epoch 1/20\n",
            "150/150 [==============================] - 1s 3ms/step - loss: 0.7026 - accuracy: 0.4849\n",
            "Epoch 2/20\n",
            "150/150 [==============================] - 0s 2ms/step - loss: 0.6507 - accuracy: 0.6120\n",
            "Epoch 3/20\n",
            "150/150 [==============================] - 0s 2ms/step - loss: 0.5588 - accuracy: 0.7157\n",
            "Epoch 4/20\n",
            "150/150 [==============================] - 0s 2ms/step - loss: 0.4805 - accuracy: 0.7609\n",
            "Epoch 5/20\n",
            "150/150 [==============================] - 0s 2ms/step - loss: 0.4697 - accuracy: 0.7759\n",
            "Epoch 6/20\n",
            "150/150 [==============================] - 0s 2ms/step - loss: 0.4036 - accuracy: 0.8094\n",
            "Epoch 7/20\n",
            "150/150 [==============================] - 0s 2ms/step - loss: 0.3820 - accuracy: 0.8211\n",
            "Epoch 8/20\n",
            "150/150 [==============================] - 0s 2ms/step - loss: 0.3837 - accuracy: 0.8211\n",
            "Epoch 9/20\n",
            "150/150 [==============================] - 0s 2ms/step - loss: 0.3745 - accuracy: 0.8227\n",
            "Epoch 10/20\n",
            "150/150 [==============================] - 0s 2ms/step - loss: 0.3552 - accuracy: 0.8395\n",
            "Epoch 11/20\n",
            "150/150 [==============================] - 0s 2ms/step - loss: 0.3743 - accuracy: 0.8211\n",
            "Epoch 12/20\n",
            "150/150 [==============================] - 0s 2ms/step - loss: 0.3315 - accuracy: 0.8445\n",
            "Epoch 13/20\n",
            "150/150 [==============================] - 0s 2ms/step - loss: 0.3121 - accuracy: 0.8645\n",
            "Epoch 14/20\n",
            "150/150 [==============================] - 0s 2ms/step - loss: 0.3520 - accuracy: 0.8411\n",
            "Epoch 15/20\n",
            "150/150 [==============================] - 0s 2ms/step - loss: 0.3331 - accuracy: 0.8512\n",
            "Epoch 16/20\n",
            "150/150 [==============================] - 0s 2ms/step - loss: 0.3064 - accuracy: 0.8662\n",
            "Epoch 17/20\n",
            "150/150 [==============================] - 0s 2ms/step - loss: 0.2736 - accuracy: 0.8896\n",
            "Epoch 18/20\n",
            "150/150 [==============================] - 0s 2ms/step - loss: 0.3034 - accuracy: 0.8763\n",
            "Epoch 19/20\n",
            "150/150 [==============================] - 0s 2ms/step - loss: 0.3024 - accuracy: 0.8729\n",
            "Epoch 20/20\n",
            "150/150 [==============================] - 0s 2ms/step - loss: 0.2850 - accuracy: 0.8629\n"
          ],
          "name": "stdout"
        },
        {
          "output_type": "execute_result",
          "data": {
            "text/plain": [
              "<tensorflow.python.keras.callbacks.History at 0x7fb653605910>"
            ]
          },
          "metadata": {
            "tags": []
          },
          "execution_count": 44
        }
      ]
    },
    {
      "cell_type": "markdown",
      "metadata": {
        "id": "LPdRs25WOdBG"
      },
      "source": [
        "# 4. Text the model"
      ]
    },
    {
      "cell_type": "code",
      "metadata": {
        "id": "pKB7VFh8PCRl"
      },
      "source": [
        "y_pred = (model.predict(X_test) > 0.5).astype(\"int32\")"
      ],
      "execution_count": 59,
      "outputs": []
    },
    {
      "cell_type": "code",
      "metadata": {
        "colab": {
          "base_uri": "https://localhost:8080/"
        },
        "id": "Q8BRtW-nPHX4",
        "outputId": "853d8725-5d3a-4094-871a-7877e67bf61b"
      },
      "source": [
        "confusion_matrix(y_test,y_pred)"
      ],
      "execution_count": 60,
      "outputs": [
        {
          "output_type": "execute_result",
          "data": {
            "text/plain": [
              "array([[66,  7],\n",
              "       [25, 52]])"
            ]
          },
          "metadata": {
            "tags": []
          },
          "execution_count": 60
        }
      ]
    },
    {
      "cell_type": "code",
      "metadata": {
        "colab": {
          "base_uri": "https://localhost:8080/",
          "height": 279
        },
        "id": "COFAjLuNPnL6",
        "outputId": "b8e8240b-7c5b-4b4f-cf56-17d4f5b8a0bc"
      },
      "source": [
        "plot_confusion_matrix(confusion_matrix(y_test,y_pred))\n",
        "plt.show()"
      ],
      "execution_count": 63,
      "outputs": [
        {
          "output_type": "display_data",
          "data": {
            "image/png": "[encoded data removed]",
            "text/plain": [
              "<Figure size 432x288 with 1 Axes>"
            ]
          },
          "metadata": {
            "tags": [],
            "needs_background": "light"
          }
        }
      ]
    },
    {
      "cell_type": "code",
      "metadata": {
        "colab": {
          "base_uri": "https://localhost:8080/"
        },
        "id": "KWO5hkgMP9H-",
        "outputId": "79fcb93e-0487-4697-a30b-9b05208533e2"
      },
      "source": [
        "print(classification_report(y_test,y_pred))"
      ],
      "execution_count": 65,
      "outputs": [
        {
          "output_type": "stream",
          "text": [
            "              precision    recall  f1-score   support\n",
            "\n",
            "           0       0.73      0.90      0.80        73\n",
            "           1       0.88      0.68      0.76        77\n",
            "\n",
            "    accuracy                           0.79       150\n",
            "   macro avg       0.80      0.79      0.78       150\n",
            "weighted avg       0.81      0.79      0.78       150\n",
            "\n"
          ],
          "name": "stdout"
        }
      ]
    },
    {
      "cell_type": "markdown",
      "metadata": {
        "id": "TLvwqBPOQlrL"
      },
      "source": [
        "## 4.1. Setting custom Threshold"
      ]
    },
    {
      "cell_type": "code",
      "metadata": {
        "id": "GmmDMggYQPIU"
      },
      "source": [
        "from sklearn.metrics import precision_score,recall_score"
      ],
      "execution_count": 66,
      "outputs": []
    },
    {
      "cell_type": "code",
      "metadata": {
        "colab": {
          "base_uri": "https://localhost:8080/"
        },
        "id": "wju0OMqgQ-hb",
        "outputId": "f87385cd-33fe-4f07-d2b2-51dbaece1311"
      },
      "source": [
        "y_pred = model.predict(X_test)\n",
        "# y_pred = (model.predict(X_test) > 0.7).astype(\"int32\")\n",
        "\n",
        "for i in [0.3,0.35,0.4,0.45,0.5,0.55,0.6,0.65,0.7,0.75]:\n",
        "  classes = [1 if val > i else 0 for val in y_pred]\n",
        "  print(i, '-->>', round(precision_score(y_test,classes),3), round(recall_score(y_test,classes),3))"
      ],
      "execution_count": 68,
      "outputs": [
        {
          "output_type": "stream",
          "text": [
            "0.3 -->> 0.855 0.766\n",
            "0.35 -->> 0.868 0.766\n",
            "0.4 -->> 0.887 0.714\n",
            "0.45 -->> 0.885 0.701\n",
            "0.5 -->> 0.881 0.675\n",
            "0.55 -->> 0.879 0.662\n",
            "0.6 -->> 0.875 0.636\n",
            "0.65 -->> 0.873 0.623\n",
            "0.7 -->> 0.9 0.584\n",
            "0.75 -->> 0.898 0.571\n"
          ],
          "name": "stdout"
        }
      ]
    },
    {
      "cell_type": "markdown",
      "metadata": {
        "id": "6wZktBufSS7P"
      },
      "source": [
        "# 5. 1-D CNN model building and training"
      ]
    },
    {
      "cell_type": "code",
      "metadata": {
        "colab": {
          "base_uri": "https://localhost:8080/"
        },
        "id": "eJvwa9UzR0ED",
        "outputId": "96acf205-466b-4f2f-caf0-b84dd3e7d82e"
      },
      "source": [
        "X_train.shape"
      ],
      "execution_count": 70,
      "outputs": [
        {
          "output_type": "execute_result",
          "data": {
            "text/plain": [
              "(598, 300)"
            ]
          },
          "metadata": {
            "tags": []
          },
          "execution_count": 70
        }
      ]
    },
    {
      "cell_type": "code",
      "metadata": {
        "id": "FVp0AFj7SooU"
      },
      "source": [
        "X_train_c = X_train.reshape(X_train.shape[0],X_train.shape[1],1)\n",
        "X_test_c = X_test.reshape(X_test.shape[0],X_test.shape[1],1)"
      ],
      "execution_count": 71,
      "outputs": []
    },
    {
      "cell_type": "code",
      "metadata": {
        "colab": {
          "base_uri": "https://localhost:8080/"
        },
        "id": "DO0ifZxGS70G",
        "outputId": "9d6417f3-e0d9-4eec-ea2d-c55877c01d5b"
      },
      "source": [
        "X_train_c.shape,X_test_c.shape"
      ],
      "execution_count": 75,
      "outputs": [
        {
          "output_type": "execute_result",
          "data": {
            "text/plain": [
              "((598, 300, 1), (150, 300, 1))"
            ]
          },
          "metadata": {
            "tags": []
          },
          "execution_count": 75
        }
      ]
    },
    {
      "cell_type": "code",
      "metadata": {
        "colab": {
          "base_uri": "https://localhost:8080/"
        },
        "id": "ADOF_SQqTQNs",
        "outputId": "5d031694-2940-4990-c072-d1593ab9df28"
      },
      "source": [
        "X_train_c[0].shape"
      ],
      "execution_count": 76,
      "outputs": [
        {
          "output_type": "execute_result",
          "data": {
            "text/plain": [
              "(300, 1)"
            ]
          },
          "metadata": {
            "tags": []
          },
          "execution_count": 76
        }
      ]
    },
    {
      "cell_type": "code",
      "metadata": {
        "id": "896RFv9nS9tS"
      },
      "source": [
        "model = Sequential()\n",
        "model.add(Conv1D(32, 2,activation = 'relu',input_shape = X_train_c[0].shape))\n",
        "model.add(BatchNormalization())\n",
        "model.add(Dropout(0.2))\n",
        "\n",
        "model.add(Flatten())\n",
        "model.add(Dense(64,activation ='relu'))\n",
        "model.add(Dropout(0.2))\n",
        "\n",
        "model.add(Dense(1,activation = 'sigmoid'))"
      ],
      "execution_count": 87,
      "outputs": []
    },
    {
      "cell_type": "code",
      "metadata": {
        "colab": {
          "base_uri": "https://localhost:8080/"
        },
        "id": "y6DzYUkeT_XY",
        "outputId": "89a8539f-e25c-4bd1-e435-858fd5e04e8f"
      },
      "source": [
        "model.summary()"
      ],
      "execution_count": 83,
      "outputs": [
        {
          "output_type": "stream",
          "text": [
            "Model: \"sequential_4\"\n",
            "_________________________________________________________________\n",
            "Layer (type)                 Output Shape              Param #   \n",
            "=================================================================\n",
            "conv1d_2 (Conv1D)            (None, 299, 32)           96        \n",
            "_________________________________________________________________\n",
            "batch_normalization_1 (Batch (None, 299, 32)           128       \n",
            "_________________________________________________________________\n",
            "dropout_1 (Dropout)          (None, 299, 32)           0         \n",
            "_________________________________________________________________\n",
            "flatten_1 (Flatten)          (None, 9568)              0         \n",
            "_________________________________________________________________\n",
            "dense_7 (Dense)              (None, 64)                612416    \n",
            "_________________________________________________________________\n",
            "dropout_2 (Dropout)          (None, 64)                0         \n",
            "_________________________________________________________________\n",
            "dense_8 (Dense)              (None, 1)                 65        \n",
            "=================================================================\n",
            "Total params: 612,705\n",
            "Trainable params: 612,641\n",
            "Non-trainable params: 64\n",
            "_________________________________________________________________\n"
          ],
          "name": "stdout"
        }
      ]
    },
    {
      "cell_type": "code",
      "metadata": {
        "colab": {
          "base_uri": "https://localhost:8080/"
        },
        "id": "w_Jqhf99UGN9",
        "outputId": "bd65270a-9d8a-43a6-8c5b-74c0ed01adaa"
      },
      "source": [
        "epochs = 20\n",
        "model.compile(optimizer = Adam(0.0001), loss = 'binary_crossentropy',metrics = ['accuracy'])\n",
        "history = model.fit(X_train_c,y_train,epochs = epochs,validation_data = (X_test_c,y_test))"
      ],
      "execution_count": 88,
      "outputs": [
        {
          "output_type": "stream",
          "text": [
            "Epoch 1/20\n",
            "19/19 [==============================] - 1s 32ms/step - loss: 0.6405 - accuracy: 0.6304 - val_loss: 0.6769 - val_accuracy: 0.5200\n",
            "Epoch 2/20\n",
            "19/19 [==============================] - 0s 22ms/step - loss: 0.4362 - accuracy: 0.7960 - val_loss: 0.6615 - val_accuracy: 0.5467\n",
            "Epoch 3/20\n",
            "19/19 [==============================] - 1s 27ms/step - loss: 0.3384 - accuracy: 0.8495 - val_loss: 0.6466 - val_accuracy: 0.6000\n",
            "Epoch 4/20\n",
            "19/19 [==============================] - 0s 25ms/step - loss: 0.3250 - accuracy: 0.8528 - val_loss: 0.6376 - val_accuracy: 0.6067\n",
            "Epoch 5/20\n",
            "19/19 [==============================] - 1s 29ms/step - loss: 0.2818 - accuracy: 0.8946 - val_loss: 0.6272 - val_accuracy: 0.6600\n",
            "Epoch 6/20\n",
            "19/19 [==============================] - 0s 26ms/step - loss: 0.2679 - accuracy: 0.8997 - val_loss: 0.6147 - val_accuracy: 0.7333\n",
            "Epoch 7/20\n",
            "19/19 [==============================] - 1s 27ms/step - loss: 0.2521 - accuracy: 0.9130 - val_loss: 0.6037 - val_accuracy: 0.7800\n",
            "Epoch 8/20\n",
            "19/19 [==============================] - 0s 26ms/step - loss: 0.2274 - accuracy: 0.9080 - val_loss: 0.5910 - val_accuracy: 0.7733\n",
            "Epoch 9/20\n",
            "19/19 [==============================] - 1s 27ms/step - loss: 0.2205 - accuracy: 0.9013 - val_loss: 0.5813 - val_accuracy: 0.7733\n",
            "Epoch 10/20\n",
            "19/19 [==============================] - 0s 26ms/step - loss: 0.1965 - accuracy: 0.9214 - val_loss: 0.5674 - val_accuracy: 0.7800\n",
            "Epoch 11/20\n",
            "19/19 [==============================] - 0s 26ms/step - loss: 0.1893 - accuracy: 0.9281 - val_loss: 0.5534 - val_accuracy: 0.7667\n",
            "Epoch 12/20\n",
            "19/19 [==============================] - 1s 27ms/step - loss: 0.1742 - accuracy: 0.9331 - val_loss: 0.5392 - val_accuracy: 0.8000\n",
            "Epoch 13/20\n",
            "19/19 [==============================] - 0s 25ms/step - loss: 0.1774 - accuracy: 0.9314 - val_loss: 0.5264 - val_accuracy: 0.7933\n",
            "Epoch 14/20\n",
            "19/19 [==============================] - 0s 22ms/step - loss: 0.1559 - accuracy: 0.9448 - val_loss: 0.5136 - val_accuracy: 0.7867\n",
            "Epoch 15/20\n",
            "19/19 [==============================] - 0s 25ms/step - loss: 0.1488 - accuracy: 0.9548 - val_loss: 0.5025 - val_accuracy: 0.7800\n",
            "Epoch 16/20\n",
            "19/19 [==============================] - 0s 26ms/step - loss: 0.1388 - accuracy: 0.9599 - val_loss: 0.4832 - val_accuracy: 0.8200\n",
            "Epoch 17/20\n",
            "19/19 [==============================] - 0s 24ms/step - loss: 0.1436 - accuracy: 0.9582 - val_loss: 0.4743 - val_accuracy: 0.8267\n",
            "Epoch 18/20\n",
            "19/19 [==============================] - 0s 23ms/step - loss: 0.1317 - accuracy: 0.9532 - val_loss: 0.4622 - val_accuracy: 0.8000\n",
            "Epoch 19/20\n",
            "19/19 [==============================] - 0s 24ms/step - loss: 0.1258 - accuracy: 0.9649 - val_loss: 0.4519 - val_accuracy: 0.8133\n",
            "Epoch 20/20\n",
            "19/19 [==============================] - 1s 32ms/step - loss: 0.1398 - accuracy: 0.9515 - val_loss: 0.4454 - val_accuracy: 0.8067\n"
          ],
          "name": "stdout"
        }
      ]
    },
    {
      "cell_type": "code",
      "metadata": {
        "id": "gqfwPrE0UeCv"
      },
      "source": [
        "def plot_learningCurve(history, epoch):\n",
        "  # Plot training & validation accuracy values\n",
        "  epoch_range = range(1, epoch+1)\n",
        "  plt.plot(epoch_range, history.history['accuracy'])\n",
        "  plt.plot(epoch_range, history.history['val_accuracy'])\n",
        "  plt.title('Model accuracy')\n",
        "  plt.ylabel('Accuracy')\n",
        "  plt.xlabel('Epoch')\n",
        "  plt.legend(['Train', 'Val'], loc='upper left')\n",
        "  plt.show()\n",
        "\n",
        "  # Plot training & validation loss values\n",
        "  plt.plot(epoch_range, history.history['loss'])\n",
        "  plt.plot(epoch_range, history.history['val_loss'])\n",
        "  plt.title('Model loss')\n",
        "  plt.ylabel('Loss')\n",
        "  plt.xlabel('Epoch')\n",
        "  plt.legend(['Train', 'Val'], loc='upper left')\n",
        "  plt.show()"
      ],
      "execution_count": 89,
      "outputs": []
    },
    {
      "cell_type": "code",
      "metadata": {
        "colab": {
          "base_uri": "https://localhost:8080/",
          "height": 573
        },
        "id": "bipIc93-VcR2",
        "outputId": "b151e49d-d1b0-44c0-888c-498282e7771f"
      },
      "source": [
        "plot_learningCurve(history, epochs)"
      ],
      "execution_count": 90,
      "outputs": [
        {
          "output_type": "display_data",
          "data": {
            "image/png": "[encoded data removed]",
            "text/plain": [
              "<Figure size 432x288 with 1 Axes>"
            ]
          },
          "metadata": {
            "tags": [],
            "needs_background": "light"
          }
        },
        {
          "output_type": "display_data",
          "data": {
            "image/png": "[encoded data removed]",
            "text/plain": [
              "<Figure size 432x288 with 1 Axes>"
            ]
          },
          "metadata": {
            "tags": [],
            "needs_background": "light"
          }
        }
      ]
    },
    {
      "cell_type": "code",
      "metadata": {
        "colab": {
          "base_uri": "https://localhost:8080/",
          "height": 316
        },
        "id": "aNYEGK0MWk_q",
        "outputId": "524dbdd6-2188-43df-ce1c-9e0ef7b36af1"
      },
      "source": [
        "plot_confusion_matrix(confusion_matrix(y_test,(model.predict(X_test_c) > 0.5).astype(\"int32\")))"
      ],
      "execution_count": 96,
      "outputs": [
        {
          "output_type": "execute_result",
          "data": {
            "text/plain": [
              "(<Figure size 432x288 with 1 Axes>,\n",
              " <matplotlib.axes._subplots.AxesSubplot at 0x7fb648d6a3d0>)"
            ]
          },
          "metadata": {
            "tags": []
          },
          "execution_count": 96
        },
        {
          "output_type": "display_data",
          "data": {
            "image/png": "[encoded data removed]",
            "text/plain": [
              "<Figure size 432x288 with 1 Axes>"
            ]
          },
          "metadata": {
            "tags": [],
            "needs_background": "light"
          }
        }
      ]
    },
    {
      "cell_type": "markdown",
      "metadata": {
        "id": "DjCM8FH5V--x"
      },
      "source": [
        "## 5.2. Model Load, store and testing"
      ]
    },
    {
      "cell_type": "code",
      "metadata": {
        "id": "UAX7Fm-nVeui"
      },
      "source": [
        "from tensorflow.keras.models import load_model"
      ],
      "execution_count": 91,
      "outputs": []
    },
    {
      "cell_type": "code",
      "metadata": {
        "id": "omXZdMN_WITB"
      },
      "source": [
        "model.save('cnn_model',save_format= 'h5')"
      ],
      "execution_count": 92,
      "outputs": []
    },
    {
      "cell_type": "code",
      "metadata": {
        "id": "UAZ19GhzWOJ-"
      },
      "source": [
        "model = load_model('cnn_model')"
      ],
      "execution_count": 93,
      "outputs": []
    },
    {
      "cell_type": "markdown",
      "metadata": {
        "id": "sKhIdvODWdCO"
      },
      "source": [
        "Test the model"
      ]
    },
    {
      "cell_type": "code",
      "metadata": {
        "id": "yHNYqOlXWTE8"
      },
      "source": [
        "def get_pred(x,model, scaler,threshold = 0.5):\n",
        "  x = get_clean(x)\n",
        "  vec = get_vec(x).reshape(1,-1)\n",
        "  vec = scaler.transform(vec)\n",
        "  vec = vec.reshape(-1,300,1)\n",
        "  y_pred = (model.predict(vec) > threshold).astype(\"int32\")\n",
        "\n",
        "  print(y_pred[0])"
      ],
      "execution_count": 102,
      "outputs": []
    },
    {
      "cell_type": "code",
      "metadata": {
        "colab": {
          "base_uri": "https://localhost:8080/"
        },
        "id": "xkJehXMQXY9a",
        "outputId": "7aaa5760-96aa-43c2-bae3-f4d5eff16046"
      },
      "source": [
        "x = 'it was a nice movie!'\n",
        "get_pred(x,model,scaler)"
      ],
      "execution_count": 103,
      "outputs": [
        {
          "output_type": "stream",
          "text": [
            "[1]\n"
          ],
          "name": "stdout"
        }
      ]
    },
    {
      "cell_type": "code",
      "metadata": {
        "id": "jPZ7m7LNXw_D"
      },
      "source": [
        ""
      ],
      "execution_count": null,
      "outputs": []
    }
  ]
}