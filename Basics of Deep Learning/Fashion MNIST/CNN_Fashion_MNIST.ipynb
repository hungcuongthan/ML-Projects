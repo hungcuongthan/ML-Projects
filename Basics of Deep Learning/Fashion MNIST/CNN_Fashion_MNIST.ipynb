{
  "nbformat": 4,
  "nbformat_minor": 0,
  "metadata": {
    "colab": {
      "name": "CNN_Fashion_MNIST.ipynb",
      "provenance": [],
      "authorship_tag": "ABX9TyPYCre1puJZSEvcEg3Bxl8v",
      "include_colab_link": true
    },
    "kernelspec": {
      "name": "python3",
      "display_name": "Python 3"
    },
    "language_info": {
      "name": "python"
    },
    "accelerator": "GPU"
  },
  "cells": [
    {
      "cell_type": "markdown",
      "metadata": {
        "id": "view-in-github",
        "colab_type": "text"
      },
      "source": [
        "<a href=\"https://colab.research.google.com/github/hungcuongthan/ML-DL-Projects/blob/main/CNN/CNN_Fashion_MNIST.ipynb\" target=\"_parent\"><img src=\"https://colab.research.google.com/assets/colab-badge.svg\" alt=\"Open In Colab\"/></a>"
      ]
    },
    {
      "cell_type": "code",
      "metadata": {
        "colab": {
          "base_uri": "https://localhost:8080/"
        },
        "id": "NosTYs1LGKCX",
        "outputId": "e2c261d4-90ff-4e1a-848e-934a122a639f"
      },
      "source": [
        "import numpy as np\n",
        "import tensorflow as tf\n",
        "print(tf.__version__)\n",
        "\n",
        "from tensorflow.keras.layers import Input,Flatten, Dense,Conv2D, Dropout\n",
        "from tensorflow.keras.models import Model"
      ],
      "execution_count": 1,
      "outputs": [
        {
          "output_type": "stream",
          "text": [
            "2.5.0\n"
          ],
          "name": "stdout"
        }
      ]
    },
    {
      "cell_type": "code",
      "metadata": {
        "colab": {
          "base_uri": "https://localhost:8080/"
        },
        "id": "vzU2h1FrGL96",
        "outputId": "3589360f-db7a-4f79-9cce-1c02138ac0ad"
      },
      "source": [
        "fashion_mnist  = tf.keras.datasets.fashion_mnist\n",
        "(x_train,y_train),(x_test,y_test) = fashion_mnist.load_data()"
      ],
      "execution_count": 2,
      "outputs": [
        {
          "output_type": "stream",
          "text": [
            "Downloading data from https://storage.googleapis.com/tensorflow/tf-keras-datasets/train-labels-idx1-ubyte.gz\n",
            "32768/29515 [=================================] - 0s 0us/step\n",
            "Downloading data from https://storage.googleapis.com/tensorflow/tf-keras-datasets/train-images-idx3-ubyte.gz\n",
            "26427392/26421880 [==============================] - 0s 0us/step\n",
            "Downloading data from https://storage.googleapis.com/tensorflow/tf-keras-datasets/t10k-labels-idx1-ubyte.gz\n",
            "8192/5148 [===============================================] - 0s 0us/step\n",
            "Downloading data from https://storage.googleapis.com/tensorflow/tf-keras-datasets/t10k-images-idx3-ubyte.gz\n",
            "4423680/4422102 [==============================] - 0s 0us/step\n"
          ],
          "name": "stdout"
        }
      ]
    },
    {
      "cell_type": "code",
      "metadata": {
        "colab": {
          "base_uri": "https://localhost:8080/"
        },
        "id": "RttlLMOXHCfW",
        "outputId": "0f1d6bf7-4d99-4b55-91d1-86eeab75056f"
      },
      "source": [
        "x_train.shape"
      ],
      "execution_count": 3,
      "outputs": [
        {
          "output_type": "execute_result",
          "data": {
            "text/plain": [
              "(60000, 28, 28)"
            ]
          },
          "metadata": {
            "tags": []
          },
          "execution_count": 3
        }
      ]
    },
    {
      "cell_type": "markdown",
      "metadata": {
        "id": "KZOwIohTiKGW"
      },
      "source": [
        "We have dataset of 60000 of 28x28 images of fashion ascessories."
      ]
    },
    {
      "cell_type": "code",
      "metadata": {
        "colab": {
          "base_uri": "https://localhost:8080/",
          "height": 265
        },
        "id": "hULc5MOYHDOl",
        "outputId": "b9efc37c-1723-4761-9e6f-16f2d205495f"
      },
      "source": [
        "import matplotlib.pyplot as plt\n",
        "\n",
        "plt.imshow(x_train[0],cmap = 'gray')\n",
        "plt.show()\n"
      ],
      "execution_count": 4,
      "outputs": [
        {
          "output_type": "display_data",
          "data": {
            "image/png": "[encoded data removed]",
            "text/plain": [
              "<Figure size 432x288 with 1 Axes>"
            ]
          },
          "metadata": {
            "tags": [],
            "needs_background": "light"
          }
        }
      ]
    },
    {
      "cell_type": "code",
      "metadata": {
        "id": "UbMcBXLUhW7b"
      },
      "source": [
        "#scale the data set\n",
        "x_train, x_test = x_train/255.0, x_test/255.0"
      ],
      "execution_count": 5,
      "outputs": []
    },
    {
      "cell_type": "code",
      "metadata": {
        "colab": {
          "base_uri": "https://localhost:8080/",
          "height": 265
        },
        "id": "brS3Qquzj2wJ",
        "outputId": "b11a20b3-0bd6-4c48-bd5d-1fb20bc4c198"
      },
      "source": [
        "plt.imshow(x_train[0],cmap = 'gray')\n",
        "plt.show()\n"
      ],
      "execution_count": 6,
      "outputs": [
        {
          "output_type": "display_data",
          "data": {
            "image/png": "[encoded data removed]",
            "text/plain": [
              "<Figure size 432x288 with 1 Axes>"
            ]
          },
          "metadata": {
            "tags": [],
            "needs_background": "light"
          }
        }
      ]
    },
    {
      "cell_type": "code",
      "metadata": {
        "colab": {
          "base_uri": "https://localhost:8080/"
        },
        "id": "RwXXQ1vxj4Vo",
        "outputId": "73bf4b1a-af2f-4bd1-cb9d-8dc69445e787"
      },
      "source": [
        "#The data is only 2-D\n",
        "#The convolution layers need  input with dimension: height x width x color\n",
        "\n",
        "x_train = np.expand_dims(x_train, - 1)\n",
        "x_test = np.expand_dims(x_test, - 1)\n",
        "print(x_train.shape)"
      ],
      "execution_count": 7,
      "outputs": [
        {
          "output_type": "stream",
          "text": [
            "(60000, 28, 28, 1)\n"
          ],
          "name": "stdout"
        }
      ]
    },
    {
      "cell_type": "code",
      "metadata": {
        "colab": {
          "base_uri": "https://localhost:8080/"
        },
        "id": "8yMoYOUnkc5o",
        "outputId": "9c5fa903-8b71-44f3-9273-1584e18ece48"
      },
      "source": [
        "#Unique number of classes\n",
        "K = len(set(y_train))\n",
        "print(\"Number of classes: {}\".format(K))"
      ],
      "execution_count": 8,
      "outputs": [
        {
          "output_type": "stream",
          "text": [
            "Number of classes: 10\n"
          ],
          "name": "stdout"
        }
      ]
    },
    {
      "cell_type": "code",
      "metadata": {
        "id": "s4UUTA0Eksfw"
      },
      "source": [
        "#Build the model using functional API\n",
        "#Increase the number of feature maps after it convolution layer\n",
        "#Constant filter size of 3x3\n",
        "#strides = 2, the image dimension gets reduced by half after each convolution\n",
        "#Flatten layer is to convert the image into a feature vector\n",
        "#Dropout layers for regularization along with Dense layers\n",
        "\n",
        "i = Input(shape = x_train[0].shape)\n",
        "x = Conv2D(filters = 32,kernel_size=(3,3),strides= 2,activation= 'relu')(i)\n",
        "x = Conv2D(filters = 64,kernel_size=(3,3),strides= 2,activation= 'relu')(x)\n",
        "x = Conv2D(filters = 128,kernel_size=(3,3),strides= 2,activation= 'relu')(x)\n",
        "x = Flatten()(x)\n",
        "x = Dropout(0.2)(x)\n",
        "x = Dense(512,activation= 'relu')(x)\n",
        "x = Dropout(0.2)(x)\n",
        "x = Dense(K,activation = \"softmax\")(x) #Output layer\n",
        "\n",
        "model = Model(i,x)"
      ],
      "execution_count": 9,
      "outputs": []
    },
    {
      "cell_type": "code",
      "metadata": {
        "colab": {
          "base_uri": "https://localhost:8080/"
        },
        "id": "MZyuW7JOk8su",
        "outputId": "bcd3428e-1c14-43fc-dc23-202ca4892fa7"
      },
      "source": [
        "#Compile and fit the model\n",
        "model.compile(optimizer = 'adam',\n",
        "              loss = 'sparse_categorical_crossentropy',\n",
        "              metrics = ['accuracy'])\n",
        "\n",
        "r = model.fit(x_train,y_train, validation_data = (x_test,y_test), epochs = 15)"
      ],
      "execution_count": 12,
      "outputs": [
        {
          "output_type": "stream",
          "text": [
            "Epoch 1/15\n",
            "1875/1875 [==============================] - 8s 4ms/step - loss: 0.1249 - accuracy: 0.9521 - val_loss: 0.4023 - val_accuracy: 0.8992\n",
            "Epoch 2/15\n",
            "1875/1875 [==============================] - 7s 4ms/step - loss: 0.1182 - accuracy: 0.9548 - val_loss: 0.3780 - val_accuracy: 0.9020\n",
            "Epoch 3/15\n",
            "1875/1875 [==============================] - 7s 4ms/step - loss: 0.1151 - accuracy: 0.9570 - val_loss: 0.3766 - val_accuracy: 0.9019\n",
            "Epoch 4/15\n",
            "1875/1875 [==============================] - 7s 4ms/step - loss: 0.1094 - accuracy: 0.9577 - val_loss: 0.3866 - val_accuracy: 0.9017\n",
            "Epoch 5/15\n",
            "1875/1875 [==============================] - 7s 4ms/step - loss: 0.1038 - accuracy: 0.9599 - val_loss: 0.4036 - val_accuracy: 0.8966\n",
            "Epoch 6/15\n",
            "1875/1875 [==============================] - 7s 4ms/step - loss: 0.1007 - accuracy: 0.9607 - val_loss: 0.4014 - val_accuracy: 0.8995\n",
            "Epoch 7/15\n",
            "1875/1875 [==============================] - 7s 4ms/step - loss: 0.0997 - accuracy: 0.9626 - val_loss: 0.4354 - val_accuracy: 0.8890\n",
            "Epoch 8/15\n",
            "1875/1875 [==============================] - 7s 4ms/step - loss: 0.0992 - accuracy: 0.9621 - val_loss: 0.4198 - val_accuracy: 0.9018\n",
            "Epoch 9/15\n",
            "1875/1875 [==============================] - 8s 4ms/step - loss: 0.0938 - accuracy: 0.9653 - val_loss: 0.4318 - val_accuracy: 0.9006\n",
            "Epoch 10/15\n",
            "1875/1875 [==============================] - 8s 4ms/step - loss: 0.0927 - accuracy: 0.9658 - val_loss: 0.4407 - val_accuracy: 0.8967\n",
            "Epoch 11/15\n",
            "1875/1875 [==============================] - 7s 4ms/step - loss: 0.0870 - accuracy: 0.9671 - val_loss: 0.4704 - val_accuracy: 0.8977\n",
            "Epoch 12/15\n",
            "1875/1875 [==============================] - 7s 4ms/step - loss: 0.0873 - accuracy: 0.9677 - val_loss: 0.4429 - val_accuracy: 0.8950\n",
            "Epoch 13/15\n",
            "1875/1875 [==============================] - 7s 4ms/step - loss: 0.0811 - accuracy: 0.9696 - val_loss: 0.4334 - val_accuracy: 0.8987\n",
            "Epoch 14/15\n",
            "1875/1875 [==============================] - 7s 4ms/step - loss: 0.0837 - accuracy: 0.9695 - val_loss: 0.4776 - val_accuracy: 0.8957\n",
            "Epoch 15/15\n",
            "1875/1875 [==============================] - 7s 4ms/step - loss: 0.0816 - accuracy: 0.9702 - val_loss: 0.4861 - val_accuracy: 0.8993\n"
          ],
          "name": "stdout"
        }
      ]
    },
    {
      "cell_type": "markdown",
      "metadata": {
        "id": "4hPBRDLxpAhT"
      },
      "source": [
        "We reached 90% accuracy for test set with this model."
      ]
    },
    {
      "cell_type": "code",
      "metadata": {
        "colab": {
          "base_uri": "https://localhost:8080/",
          "height": 266
        },
        "id": "DkbgXPRjozEd",
        "outputId": "38054902-d79b-4d67-809f-6f53b0ec60b7"
      },
      "source": [
        "plt.plot(r.history['loss'],label = 'train_loss')\n",
        "plt.plot(r.history['val_loss'],label = 'test_loss')\n",
        "plt.legend()\n",
        "plt.show()"
      ],
      "execution_count": 16,
      "outputs": [
        {
          "output_type": "display_data",
          "data": {
            "image/png": "[encoded data removed]",
            "text/plain": [
              "<Figure size 432x288 with 1 Axes>"
            ]
          },
          "metadata": {
            "tags": [],
            "needs_background": "light"
          }
        }
      ]
    },
    {
      "cell_type": "code",
      "metadata": {
        "colab": {
          "base_uri": "https://localhost:8080/",
          "height": 265
        },
        "id": "1N0fmZVvpH1p",
        "outputId": "3deb9f89-0da6-4964-9356-8aeca01fb753"
      },
      "source": [
        "plt.plot(r.history['accuracy'],label = 'train_accuracy')\n",
        "plt.plot(r.history['val_accuracy'],label = 'test_accuracy')\n",
        "plt.legend()\n",
        "plt.show()"
      ],
      "execution_count": 17,
      "outputs": [
        {
          "output_type": "display_data",
          "data": {
            "image/png": "[encoded data removed]",
            "text/plain": [
              "<Figure size 432x288 with 1 Axes>"
            ]
          },
          "metadata": {
            "tags": [],
            "needs_background": "light"
          }
        }
      ]
    },
    {
      "cell_type": "code",
      "metadata": {
        "id": "aO4xmbqcssSH"
      },
      "source": [
        ""
      ],
      "execution_count": null,
      "outputs": []
    }
  ]
}