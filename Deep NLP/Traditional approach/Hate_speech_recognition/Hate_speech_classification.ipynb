{
  "nbformat": 4,
  "nbformat_minor": 0,
  "metadata": {
    "colab": {
      "name": "Hate speech classification.ipynb",
      "provenance": []
    },
    "kernelspec": {
      "name": "python3",
      "display_name": "Python 3"
    },
    "language_info": {
      "name": "python"
    },
    "accelerator": "GPU"
  },
  "cells": [
    {
      "cell_type": "markdown",
      "metadata": {
        "id": "YDS31MNXDb9V"
      },
      "source": [
        "In this notebook, I'm going to create a model to classify hate speeches, which are public speeches that express hate or encourage violence towards a person or group based on something such as race, religion, sex, or sexual orientation."
      ]
    },
    {
      "cell_type": "markdown",
      "metadata": {
        "id": "RuJl67qDD8Qw"
      },
      "source": [
        "Steps to classify hate speeches\n",
        "\n",
        "- Preprocess the text dataset\n",
        "- Conver text data into tokens\n",
        "- Build and train ML\n",
        "- Test the model\n",
        "- Sae and use it for later cases"
      ]
    },
    {
      "cell_type": "code",
      "metadata": {
        "id": "-O9u90usDI_h"
      },
      "source": [
        "dataset = 'https://raw.githubusercontent.com/laxmimerit/hate_speech_dataset/master/data.csv'"
      ],
      "execution_count": 7,
      "outputs": []
    },
    {
      "cell_type": "markdown",
      "metadata": {
        "id": "l5hY2wC0ENxs"
      },
      "source": [
        "# 1. Import packages and collect data"
      ]
    },
    {
      "cell_type": "code",
      "metadata": {
        "id": "rMOTPiJIGud4"
      },
      "source": [
        "# Import preprocessing related packages\n",
        "!python -m spacy download en_core_web_lg\n",
        "!pip install beautifulsoup4==4.9.1\n",
        "!pip install textblob==0.15.3\n",
        "\n",
        "!pip install git+https://github.com/laxmimerit/preprocess_kgptalkie.git --upgrade --force-reinstall\n",
        "\n",
        "def get_clean(x):\n",
        "    x = str(x).lower().replace('\\\\', '').replace('_', ' ')\n",
        "    x = ps.cont_exp(x)\n",
        "    x = ps.remove_emails(x)\n",
        "    x = ps.remove_urls(x)\n",
        "    x = ps.remove_html_tags(x)\n",
        "    x = ps.remove_rt(x)\n",
        "    x = ps.remove_accented_chars(x)\n",
        "    x = ps.remove_special_chars(x)\n",
        "    x = re.sub(\"(.)\\\\1{2,}\", \"\\\\1\", x)\n",
        "    return x\n"
      ],
      "execution_count": null,
      "outputs": []
    },
    {
      "cell_type": "code",
      "metadata": {
        "id": "9yzievWPEKy6"
      },
      "source": [
        "import pandas as pd\n",
        "import numpy as np\n",
        "import matplotlib.pyplot as plt\n",
        "import re\n",
        "\n",
        "from sklearn.model_selection  import train_test_split\n",
        "import preprocess_kgptalkie as ps\n",
        "\n",
        "from tensorflow.keras.preprocessing.text import Tokenizer\n",
        "from tensorflow.keras.preprocessing.sequence import pad_sequences #pad sequence do the padding things if the length of the tweets are short.\n",
        "from tensorflow.keras.models import Sequential\n",
        "from tensorflow.keras.layers import Dense, Flatten,Embedding, Dropout\n",
        "from tensorflow.keras.layers import Conv1D, MaxPool1D, GlobalMaxPooling1D\n",
        "from tensorflow.keras.optimizers import Adam\n",
        "\n",
        "from keras.utils import np_utils\n",
        "\n",
        "from sklearn.metrics import classification_report, confusion_matrix\n",
        "from mlxtend.plotting import  plot_confusion_matrix\n"
      ],
      "execution_count": 55,
      "outputs": []
    },
    {
      "cell_type": "code",
      "metadata": {
        "id": "bNTZ_9PWFF9y"
      },
      "source": [
        "df = pd.read_csv(dataset, index_col= 0)"
      ],
      "execution_count": 8,
      "outputs": []
    },
    {
      "cell_type": "code",
      "metadata": {
        "colab": {
          "base_uri": "https://localhost:8080/",
          "height": 206
        },
        "id": "UQkP_tfuFI6k",
        "outputId": "c21e5a86-62da-4c46-f6be-ef6d62d422ec"
      },
      "source": [
        "df.head()"
      ],
      "execution_count": 9,
      "outputs": [
        {
          "output_type": "execute_result",
          "data": {
            "text/html": [
              "<div>\n",
              "<style scoped>\n",
              "    .dataframe tbody tr th:only-of-type {\n",
              "        vertical-align: middle;\n",
              "    }\n",
              "\n",
              "    .dataframe tbody tr th {\n",
              "        vertical-align: top;\n",
              "    }\n",
              "\n",
              "    .dataframe thead th {\n",
              "        text-align: right;\n",
              "    }\n",
              "</style>\n",
              "<table border=\"1\" class=\"dataframe\">\n",
              "  <thead>\n",
              "    <tr style=\"text-align: right;\">\n",
              "      <th></th>\n",
              "      <th>count</th>\n",
              "      <th>hate_speech</th>\n",
              "      <th>offensive_language</th>\n",
              "      <th>neither</th>\n",
              "      <th>class</th>\n",
              "      <th>tweet</th>\n",
              "    </tr>\n",
              "  </thead>\n",
              "  <tbody>\n",
              "    <tr>\n",
              "      <th>0</th>\n",
              "      <td>3</td>\n",
              "      <td>0</td>\n",
              "      <td>0</td>\n",
              "      <td>3</td>\n",
              "      <td>2</td>\n",
              "      <td>!!! RT @mayasolovely: As a woman you shouldn't...</td>\n",
              "    </tr>\n",
              "    <tr>\n",
              "      <th>1</th>\n",
              "      <td>3</td>\n",
              "      <td>0</td>\n",
              "      <td>3</td>\n",
              "      <td>0</td>\n",
              "      <td>1</td>\n",
              "      <td>!!!!! RT @mleew17: boy dats cold...tyga dwn ba...</td>\n",
              "    </tr>\n",
              "    <tr>\n",
              "      <th>2</th>\n",
              "      <td>3</td>\n",
              "      <td>0</td>\n",
              "      <td>3</td>\n",
              "      <td>0</td>\n",
              "      <td>1</td>\n",
              "      <td>!!!!!!! RT @UrKindOfBrand Dawg!!!! RT @80sbaby...</td>\n",
              "    </tr>\n",
              "    <tr>\n",
              "      <th>3</th>\n",
              "      <td>3</td>\n",
              "      <td>0</td>\n",
              "      <td>2</td>\n",
              "      <td>1</td>\n",
              "      <td>1</td>\n",
              "      <td>!!!!!!!!! RT @C_G_Anderson: @viva_based she lo...</td>\n",
              "    </tr>\n",
              "    <tr>\n",
              "      <th>4</th>\n",
              "      <td>6</td>\n",
              "      <td>0</td>\n",
              "      <td>6</td>\n",
              "      <td>0</td>\n",
              "      <td>1</td>\n",
              "      <td>!!!!!!!!!!!!! RT @ShenikaRoberts: The shit you...</td>\n",
              "    </tr>\n",
              "  </tbody>\n",
              "</table>\n",
              "</div>"
            ],
            "text/plain": [
              "   count  hate_speech  ...  class                                              tweet\n",
              "0      3            0  ...      2  !!! RT @mayasolovely: As a woman you shouldn't...\n",
              "1      3            0  ...      1  !!!!! RT @mleew17: boy dats cold...tyga dwn ba...\n",
              "2      3            0  ...      1  !!!!!!! RT @UrKindOfBrand Dawg!!!! RT @80sbaby...\n",
              "3      3            0  ...      1  !!!!!!!!! RT @C_G_Anderson: @viva_based she lo...\n",
              "4      6            0  ...      1  !!!!!!!!!!!!! RT @ShenikaRoberts: The shit you...\n",
              "\n",
              "[5 rows x 6 columns]"
            ]
          },
          "metadata": {
            "tags": []
          },
          "execution_count": 9
        }
      ]
    },
    {
      "cell_type": "markdown",
      "metadata": {
        "id": "YLBr7lVxFOc-"
      },
      "source": [
        "For our target variable, which is 'class', we have 3 classes as follow:\n",
        "\n",
        "- 0: hate speech\n",
        "- 1: offensive speech\n",
        "- 2: neither"
      ]
    },
    {
      "cell_type": "markdown",
      "metadata": {
        "id": "CPNA3R1sF0n0"
      },
      "source": [
        "Other variables in the dataset:\n",
        "\n",
        "- count: number of crowdfloer (CF) users who coded each tweet\n",
        "- hate_speech: number of CF users who judged the tweet to be a hate speech\n",
        "- offensive_speech: number of CF users who judged the tweet to be offensive.\n",
        "- neither: number of CF users who judged the tweet to be neither hate speech nor offensive."
      ]
    },
    {
      "cell_type": "code",
      "metadata": {
        "colab": {
          "base_uri": "https://localhost:8080/"
        },
        "id": "BnTmXhALI9cy",
        "outputId": "ec8beeea-6679-4048-f2f3-0cd2d1ce922f"
      },
      "source": [
        "df['class'].value_counts()"
      ],
      "execution_count": 10,
      "outputs": [
        {
          "output_type": "execute_result",
          "data": {
            "text/plain": [
              "1    19190\n",
              "2     4163\n",
              "0     1430\n",
              "Name: class, dtype: int64"
            ]
          },
          "metadata": {
            "tags": []
          },
          "execution_count": 10
        }
      ]
    },
    {
      "cell_type": "markdown",
      "metadata": {
        "id": "cEiRVOcRJIBx"
      },
      "source": [
        "This is an imbalanced dataset"
      ]
    },
    {
      "cell_type": "markdown",
      "metadata": {
        "id": "nFPlw3Y_IjwO"
      },
      "source": [
        "# 2. Prepare the dataset"
      ]
    },
    {
      "cell_type": "markdown",
      "metadata": {
        "id": "FH6hWU-4KkMU"
      },
      "source": [
        "## 2.1. Balance the dataset"
      ]
    },
    {
      "cell_type": "code",
      "metadata": {
        "colab": {
          "base_uri": "https://localhost:8080/"
        },
        "id": "JDibvPbmFJvG",
        "outputId": "3a6a4f6d-cc0c-4c27-a2a2-b14f72886280"
      },
      "source": [
        "#Balance the dataset\n",
        "\n",
        "vc = df['class'].value_counts()\n",
        "index = list(vc.index)\n",
        "count = min(vc.values)\n",
        "count"
      ],
      "execution_count": 13,
      "outputs": [
        {
          "output_type": "execute_result",
          "data": {
            "text/plain": [
              "1430"
            ]
          },
          "metadata": {
            "tags": []
          },
          "execution_count": 13
        }
      ]
    },
    {
      "cell_type": "code",
      "metadata": {
        "id": "V5sdrs5-Jete"
      },
      "source": [
        "df_bal = pd.DataFrame()\n",
        "for i in index:\n",
        "  temp = df[df['class'] == i].sample(count)\n",
        "  df_bal = df_bal.append(temp, ignore_index = True)"
      ],
      "execution_count": 14,
      "outputs": []
    },
    {
      "cell_type": "code",
      "metadata": {
        "colab": {
          "base_uri": "https://localhost:8080/",
          "height": 423
        },
        "id": "zFnCZQxeKZ24",
        "outputId": "0d524620-75ff-49ca-b461-fcffb8406b42"
      },
      "source": [
        "df_bal"
      ],
      "execution_count": 15,
      "outputs": [
        {
          "output_type": "execute_result",
          "data": {
            "text/html": [
              "<div>\n",
              "<style scoped>\n",
              "    .dataframe tbody tr th:only-of-type {\n",
              "        vertical-align: middle;\n",
              "    }\n",
              "\n",
              "    .dataframe tbody tr th {\n",
              "        vertical-align: top;\n",
              "    }\n",
              "\n",
              "    .dataframe thead th {\n",
              "        text-align: right;\n",
              "    }\n",
              "</style>\n",
              "<table border=\"1\" class=\"dataframe\">\n",
              "  <thead>\n",
              "    <tr style=\"text-align: right;\">\n",
              "      <th></th>\n",
              "      <th>count</th>\n",
              "      <th>hate_speech</th>\n",
              "      <th>offensive_language</th>\n",
              "      <th>neither</th>\n",
              "      <th>class</th>\n",
              "      <th>tweet</th>\n",
              "    </tr>\n",
              "  </thead>\n",
              "  <tbody>\n",
              "    <tr>\n",
              "      <th>0</th>\n",
              "      <td>3</td>\n",
              "      <td>1</td>\n",
              "      <td>2</td>\n",
              "      <td>0</td>\n",
              "      <td>1</td>\n",
              "      <td>Man that nigga Courage always bein a bitch. HI...</td>\n",
              "    </tr>\n",
              "    <tr>\n",
              "      <th>1</th>\n",
              "      <td>3</td>\n",
              "      <td>0</td>\n",
              "      <td>3</td>\n",
              "      <td>0</td>\n",
              "      <td>1</td>\n",
              "      <td>Bitch just sucked my dick and tried to give me...</td>\n",
              "    </tr>\n",
              "    <tr>\n",
              "      <th>2</th>\n",
              "      <td>6</td>\n",
              "      <td>0</td>\n",
              "      <td>6</td>\n",
              "      <td>0</td>\n",
              "      <td>1</td>\n",
              "      <td>Sone of y'all bitches need morning glory milk ...</td>\n",
              "    </tr>\n",
              "    <tr>\n",
              "      <th>3</th>\n",
              "      <td>3</td>\n",
              "      <td>0</td>\n",
              "      <td>3</td>\n",
              "      <td>0</td>\n",
              "      <td>1</td>\n",
              "      <td>I love bad bitches it my fucking hobby, and ye...</td>\n",
              "    </tr>\n",
              "    <tr>\n",
              "      <th>4</th>\n",
              "      <td>3</td>\n",
              "      <td>0</td>\n",
              "      <td>3</td>\n",
              "      <td>0</td>\n",
              "      <td>1</td>\n",
              "      <td>RT @MLPerkinsJr: Overtime bitches.</td>\n",
              "    </tr>\n",
              "    <tr>\n",
              "      <th>...</th>\n",
              "      <td>...</td>\n",
              "      <td>...</td>\n",
              "      <td>...</td>\n",
              "      <td>...</td>\n",
              "      <td>...</td>\n",
              "      <td>...</td>\n",
              "    </tr>\n",
              "    <tr>\n",
              "      <th>4285</th>\n",
              "      <td>3</td>\n",
              "      <td>3</td>\n",
              "      <td>0</td>\n",
              "      <td>0</td>\n",
              "      <td>0</td>\n",
              "      <td>...you're white, aren't you? *rolls eyes* RT @...</td>\n",
              "    </tr>\n",
              "    <tr>\n",
              "      <th>4286</th>\n",
              "      <td>3</td>\n",
              "      <td>3</td>\n",
              "      <td>0</td>\n",
              "      <td>0</td>\n",
              "      <td>0</td>\n",
              "      <td>RT @useemitch: 1, 2, 3, 4... how many niggers ...</td>\n",
              "    </tr>\n",
              "    <tr>\n",
              "      <th>4287</th>\n",
              "      <td>3</td>\n",
              "      <td>2</td>\n",
              "      <td>1</td>\n",
              "      <td>0</td>\n",
              "      <td>0</td>\n",
              "      <td>RT @jerrilyn71: \"@HistoryGoon: hey dicklicker!...</td>\n",
              "    </tr>\n",
              "    <tr>\n",
              "      <th>4288</th>\n",
              "      <td>3</td>\n",
              "      <td>3</td>\n",
              "      <td>0</td>\n",
              "      <td>0</td>\n",
              "      <td>0</td>\n",
              "      <td>I hate the ghetto trash at the special school ...</td>\n",
              "    </tr>\n",
              "    <tr>\n",
              "      <th>4289</th>\n",
              "      <td>3</td>\n",
              "      <td>2</td>\n",
              "      <td>1</td>\n",
              "      <td>0</td>\n",
              "      <td>0</td>\n",
              "      <td>&amp;#8220;@Crowdifornia: We agree... do you? http...</td>\n",
              "    </tr>\n",
              "  </tbody>\n",
              "</table>\n",
              "<p>4290 rows × 6 columns</p>\n",
              "</div>"
            ],
            "text/plain": [
              "      count  ...                                              tweet\n",
              "0         3  ...  Man that nigga Courage always bein a bitch. HI...\n",
              "1         3  ...  Bitch just sucked my dick and tried to give me...\n",
              "2         6  ...  Sone of y'all bitches need morning glory milk ...\n",
              "3         3  ...  I love bad bitches it my fucking hobby, and ye...\n",
              "4         3  ...                 RT @MLPerkinsJr: Overtime bitches.\n",
              "...     ...  ...                                                ...\n",
              "4285      3  ...  ...you're white, aren't you? *rolls eyes* RT @...\n",
              "4286      3  ...  RT @useemitch: 1, 2, 3, 4... how many niggers ...\n",
              "4287      3  ...  RT @jerrilyn71: \"@HistoryGoon: hey dicklicker!...\n",
              "4288      3  ...  I hate the ghetto trash at the special school ...\n",
              "4289      3  ...  &#8220;@Crowdifornia: We agree... do you? http...\n",
              "\n",
              "[4290 rows x 6 columns]"
            ]
          },
          "metadata": {
            "tags": []
          },
          "execution_count": 15
        }
      ]
    },
    {
      "cell_type": "code",
      "metadata": {
        "colab": {
          "base_uri": "https://localhost:8080/"
        },
        "id": "FfzF5dwzKbJG",
        "outputId": "fb9655a6-1522-43a2-f3f3-8297594d322a"
      },
      "source": [
        "df_bal['class'].value_counts()"
      ],
      "execution_count": 16,
      "outputs": [
        {
          "output_type": "execute_result",
          "data": {
            "text/plain": [
              "2    1430\n",
              "1    1430\n",
              "0    1430\n",
              "Name: class, dtype: int64"
            ]
          },
          "metadata": {
            "tags": []
          },
          "execution_count": 16
        }
      ]
    },
    {
      "cell_type": "markdown",
      "metadata": {
        "id": "K7hQAxo5Knid"
      },
      "source": [
        "## 2.2. Preprocess the text data"
      ]
    },
    {
      "cell_type": "code",
      "metadata": {
        "id": "kpmP8wTKKi-Q"
      },
      "source": [
        "df_bal['tweet'] = df_bal['tweet'].apply(lambda x: get_clean(x))"
      ],
      "execution_count": 18,
      "outputs": []
    },
    {
      "cell_type": "code",
      "metadata": {
        "colab": {
          "base_uri": "https://localhost:8080/"
        },
        "id": "ONa9cXn8Kyw3",
        "outputId": "aa7b2857-6c03-4571-c3d1-b376841cae5e"
      },
      "source": [
        "df_bal['tweet'].head(10)"
      ],
      "execution_count": 19,
      "outputs": [
        {
          "output_type": "execute_result",
          "data": {
            "text/plain": [
              "0    man that nigga courage always bein a bitch hit...\n",
              "1    bitch just sucked my dick and tried to give me...\n",
              "2    sone of yall bitches need morning glory milk b...\n",
              "3    i love bad bitches it my fucking hobby and yea...\n",
              "4                 retweet mlperkinsjr overtime bitches\n",
              "5     do not worry about the bitches i use to fuck wit\n",
              "6    she gotta shape up her pussy lips though postp...\n",
              "7    chanelisabeth emmasayshai icanhashtaghoweveriw...\n",
              "8    retweet thad castie a milf is a sexy ass mom o...\n",
              "9    kazatta if yo girl let them in she a hoeshe be...\n",
              "Name: tweet, dtype: object"
            ]
          },
          "metadata": {
            "tags": []
          },
          "execution_count": 19
        }
      ]
    },
    {
      "cell_type": "markdown",
      "metadata": {
        "id": "PdCl3yoiLBXx"
      },
      "source": [
        "Now the tweets are ready to be tokenized"
      ]
    },
    {
      "cell_type": "markdown",
      "metadata": {
        "id": "d1snvVuLNBu5"
      },
      "source": [
        "## 2.3. Text Tokenization"
      ]
    },
    {
      "cell_type": "code",
      "metadata": {
        "id": "WwB-WAgjK_gY"
      },
      "source": [
        "text = df_bal['tweet'].tolist()"
      ],
      "execution_count": 24,
      "outputs": []
    },
    {
      "cell_type": "markdown",
      "metadata": {
        "id": "VCEb4FkaNQjK"
      },
      "source": [
        "Let's create a tokenizer and let it learn on our tweets"
      ]
    },
    {
      "cell_type": "code",
      "metadata": {
        "id": "17Ud5rNNNIpn"
      },
      "source": [
        "token = Tokenizer()\n",
        "token.fit_on_texts(text)"
      ],
      "execution_count": 25,
      "outputs": []
    },
    {
      "cell_type": "code",
      "metadata": {
        "colab": {
          "base_uri": "https://localhost:8080/"
        },
        "id": "9NgFfSpeNNVa",
        "outputId": "ccb96977-9855-47a5-d0e7-35fcede3df5f"
      },
      "source": [
        "#Preview some of the tokens\n",
        "token.word_counts"
      ],
      "execution_count": 26,
      "outputs": [
        {
          "output_type": "execute_result",
          "data": {
            "text/plain": [
              "OrderedDict([('man', 100),\n",
              "             ('that', 611),\n",
              "             ('nigga', 210),\n",
              "             ('courage', 1),\n",
              "             ('always', 47),\n",
              "             ('bein', 2),\n",
              "             ('a', 1566),\n",
              "             ('bitch', 809),\n",
              "             ('hit', 20),\n",
              "             ('dat', 45),\n",
              "             ('shit', 167),\n",
              "             ('lil', 35),\n",
              "             ('just', 257),\n",
              "             ('sucked', 5),\n",
              "             ('my', 601),\n",
              "             ('dick', 35),\n",
              "             ('and', 795),\n",
              "             ('tried', 14),\n",
              "             ('to', 971),\n",
              "             ('give', 41),\n",
              "             ('me', 397),\n",
              "             ('sugar', 4),\n",
              "             ('get', 213),\n",
              "             ('out', 323),\n",
              "             ('sone', 1),\n",
              "             ('of', 539),\n",
              "             ('yall', 95),\n",
              "             ('bitches', 254),\n",
              "             ('need', 61),\n",
              "             ('morning', 23),\n",
              "             ('glory', 1),\n",
              "             ('milk', 4),\n",
              "             ('baths', 1),\n",
              "             ('i', 1458),\n",
              "             ('love', 112),\n",
              "             ('bad', 63),\n",
              "             ('it', 446),\n",
              "             ('fucking', 156),\n",
              "             ('hobby', 1),\n",
              "             ('yeah', 33),\n",
              "             ('they', 237),\n",
              "             ('are', 325),\n",
              "             ('on', 416),\n",
              "             ('all', 253),\n",
              "             ('fours', 1),\n",
              "             ('like', 425),\n",
              "             ('doggy', 1),\n",
              "             ('retweet', 1241),\n",
              "             ('mlperkinsjr', 1),\n",
              "             ('overtime', 1),\n",
              "             ('do', 374),\n",
              "             ('not', 633),\n",
              "             ('worry', 7),\n",
              "             ('about', 188),\n",
              "             ('the', 1454),\n",
              "             ('use', 22),\n",
              "             ('fuck', 243),\n",
              "             ('wit', 40),\n",
              "             ('she', 191),\n",
              "             ('gotta', 47),\n",
              "             ('shape', 1),\n",
              "             ('up', 231),\n",
              "             ('her', 139),\n",
              "             ('pussy', 203),\n",
              "             ('lips', 3),\n",
              "             ('though', 54),\n",
              "             ('postprettypussy', 1),\n",
              "             ('whole', 11),\n",
              "             ('wheat', 1),\n",
              "             ('organic', 1),\n",
              "             ('chanelisabeth', 5),\n",
              "             ('emmasayshai', 1),\n",
              "             ('icanhashtaghoweveriwant', 1),\n",
              "             ('thad', 1),\n",
              "             ('castie', 1),\n",
              "             ('milf', 3),\n",
              "             ('is', 961),\n",
              "             ('sexy', 14),\n",
              "             ('ass', 298),\n",
              "             ('mom', 12),\n",
              "             ('over', 56),\n",
              "             ('35', 2),\n",
              "             ('if', 211),\n",
              "             ('youre', 130),\n",
              "             ('20', 8),\n",
              "             ('with', 285),\n",
              "             ('baby', 31),\n",
              "             ('kazatta', 1),\n",
              "             ('yo', 69),\n",
              "             ('girl', 55),\n",
              "             ('let', 55),\n",
              "             ('them', 128),\n",
              "             ('in', 589),\n",
              "             ('hoeshe', 1),\n",
              "             ('belong', 5),\n",
              "             ('world', 18),\n",
              "             ('why', 76),\n",
              "             ('you', 1236),\n",
              "             ('cuffing', 1),\n",
              "             ('alec', 1),\n",
              "             ('myers12', 1),\n",
              "             ('want', 98),\n",
              "             ('for', 352),\n",
              "             ('valentines', 2),\n",
              "             ('day', 77),\n",
              "             ('big', 34),\n",
              "             ('booty', 6),\n",
              "             ('hoe', 211),\n",
              "             ('yg', 3),\n",
              "             ('switched', 1),\n",
              "             ('fukin', 2),\n",
              "             ('old', 28),\n",
              "             ('am', 352),\n",
              "             ('new', 57),\n",
              "             ('vandalsavage', 1),\n",
              "             ('slipping', 1),\n",
              "             ('mollies', 1),\n",
              "             ('jello', 1),\n",
              "             ('80sbaby4life', 5),\n",
              "             ('cosby', 1),\n",
              "             ('here', 63),\n",
              "             ('pudding', 2),\n",
              "             ('pops', 2),\n",
              "             ('laugh', 69),\n",
              "             ('off', 138),\n",
              "             ('be', 413),\n",
              "             ('lagging', 1),\n",
              "             ('laughing', 152),\n",
              "             ('loud', 154),\n",
              "             ('jawshoeeah', 5),\n",
              "             ('ah', 7),\n",
              "             ('or', 123),\n",
              "             ('this', 369),\n",
              "             ('8am', 1),\n",
              "             ('biology', 1),\n",
              "             ('lab', 5),\n",
              "             ('no', 194),\n",
              "             ('broke', 12),\n",
              "             ('boy', 28),\n",
              "             ('deions', 1),\n",
              "             ('record', 4),\n",
              "             ('swear', 15),\n",
              "             ('girls', 38),\n",
              "             ('good', 82),\n",
              "             ('think', 78),\n",
              "             ('answer', 7),\n",
              "             ('everything', 9),\n",
              "             ('kiela', 2),\n",
              "             ('g', 10),\n",
              "             ('3', 30),\n",
              "             ('home', 23),\n",
              "             ('fag', 83),\n",
              "             ('did', 70),\n",
              "             ('feel', 34),\n",
              "             ('puttin', 1),\n",
              "             ('your', 340),\n",
              "             ('today', 38),\n",
              "             ('ex', 6),\n",
              "             ('wifes', 2),\n",
              "             ('tastes', 2),\n",
              "             ('sweet', 7),\n",
              "             ('butter', 4),\n",
              "             ('vicmackey', 1),\n",
              "             ('theshield', 1),\n",
              "             ('naptural', 1),\n",
              "             ('nobetch', 3),\n",
              "             ('when', 180),\n",
              "             ('drop', 11),\n",
              "             ('hoes', 215),\n",
              "             ('wrong', 27),\n",
              "             ('one', 122),\n",
              "             ('bring', 17),\n",
              "             ('em', 26),\n",
              "             ('back', 77),\n",
              "             ('lmfao', 4),\n",
              "             ('sarcasmleague', 2),\n",
              "             ('elementary', 2),\n",
              "             ('school', 32),\n",
              "             ('were', 36),\n",
              "             ('line', 15),\n",
              "             ('leader', 3),\n",
              "             ('everybody', 20),\n",
              "             ('else', 27),\n",
              "             ('was', 203),\n",
              "             ('things', 16),\n",
              "             ('shake', 52),\n",
              "             ('head', 76),\n",
              "             ('dpalmyx3', 1),\n",
              "             ('wordtothewise', 3),\n",
              "             ('stop', 48),\n",
              "             ('retweeting', 3),\n",
              "             ('heather', 1),\n",
              "             ('im', 75),\n",
              "             ('tired', 9),\n",
              "             ('seeing', 10),\n",
              "             ('tl', 9),\n",
              "             ('1', 35),\n",
              "             ('raythagawd', 1),\n",
              "             ('alistraivyn', 1),\n",
              "             ('joe', 10),\n",
              "             ('budden', 2),\n",
              "             ('makes', 33),\n",
              "             ('people', 132),\n",
              "             ('delete', 4),\n",
              "             ('their', 77),\n",
              "             ('twitter', 38),\n",
              "             ('accounts', 3),\n",
              "             ('he', 201),\n",
              "             ('blocked', 4),\n",
              "             ('michalasmith4', 1),\n",
              "             ('zzachbarness', 2),\n",
              "             ('trippinc', 2),\n",
              "             ('has', 65),\n",
              "             ('date', 13),\n",
              "             ('don', 2),\n",
              "             ('le3g', 1),\n",
              "             ('hell', 27),\n",
              "             ('ya', 51),\n",
              "             ('dey', 9),\n",
              "             ('nicca', 27),\n",
              "             ('down', 51),\n",
              "             ('der', 2),\n",
              "             ('roadrunnin', 1),\n",
              "             ('tweakin', 2),\n",
              "             ('jayreidofficial', 1),\n",
              "             ('somewhat', 1),\n",
              "             ('collage', 1),\n",
              "             ('money', 29),\n",
              "             ('jewels', 1),\n",
              "             ('cartiers', 1),\n",
              "             ('so', 261),\n",
              "             ('jus', 20),\n",
              "             ('little', 52),\n",
              "             ('niccas', 19),\n",
              "             ('know', 131),\n",
              "             ('we', 151),\n",
              "             ('still', 74),\n",
              "             ('queenhoneyc', 1),\n",
              "             ('too', 78),\n",
              "             ('short', 6),\n",
              "             ('boring', 9),\n",
              "             ('mxchaelji', 1),\n",
              "             ('lifes', 3),\n",
              "             ('wear', 12),\n",
              "             ('clothes', 8),\n",
              "             ('dominigga', 1),\n",
              "             ('reallyaintshit', 1),\n",
              "             ('come', 46),\n",
              "             ('pull', 8),\n",
              "             ('titty', 2),\n",
              "             ('what', 180),\n",
              "             ('more', 74),\n",
              "             ('merrie', 1),\n",
              "             ('sorry', 20),\n",
              "             ('but', 226),\n",
              "             ('costume', 2),\n",
              "             ('naughty', 1),\n",
              "             ('yr', 4),\n",
              "             ('will', 129),\n",
              "             ('forever', 7),\n",
              "             ('consider', 3),\n",
              "             ('basic', 5),\n",
              "             ('becreative', 1),\n",
              "             ('followers', 9),\n",
              "             ('calista', 1),\n",
              "             ('cause', 45),\n",
              "             ('damn', 43),\n",
              "             ('border', 6),\n",
              "             ('bunny', 4),\n",
              "             ('forget', 11),\n",
              "             ('already', 14),\n",
              "             ('elchavaloko', 4),\n",
              "             ('at', 213),\n",
              "             ('maniac', 2),\n",
              "             ('being', 60),\n",
              "             ('scared', 5),\n",
              "             ('needlesi', 1),\n",
              "             ('bet', 19),\n",
              "             ('crying', 10),\n",
              "             ('got', 167),\n",
              "             ('his', 98),\n",
              "             ('gay', 40),\n",
              "             ('tat', 1),\n",
              "             ('icarleybby', 2),\n",
              "             ('lexluthordaking', 1),\n",
              "             ('some', 120),\n",
              "             ('niggas', 123),\n",
              "             ('pressed', 4),\n",
              "             ('yes', 21),\n",
              "             ('wodaex3', 3),\n",
              "             ('aw', 2),\n",
              "             ('meat', 4),\n",
              "             ('feelinsi', 1),\n",
              "             ('ainn', 4),\n",
              "             ('feelings', 4),\n",
              "             ('funnypicsdepot', 5),\n",
              "             ('these', 160),\n",
              "             ('5th', 2),\n",
              "             ('grade', 4),\n",
              "             ('loyal', 12),\n",
              "             ('joebudden', 2),\n",
              "             ('famous', 3),\n",
              "             ('ruined', 3),\n",
              "             ('game', 48),\n",
              "             ('by', 67),\n",
              "             ('jacking', 1),\n",
              "             ('price', 3),\n",
              "             ('michael', 5),\n",
              "             ('paul', 7),\n",
              "             ('refuse', 3),\n",
              "             ('raise', 5),\n",
              "             ('child', 8),\n",
              "             ('country', 9),\n",
              "             ('run', 16),\n",
              "             ('spot', 7),\n",
              "             ('smash', 2),\n",
              "             ('couch', 4),\n",
              "             ('unless', 9),\n",
              "             ('had', 48),\n",
              "             ('jake', 2),\n",
              "             ('from', 112),\n",
              "             ('state', 18),\n",
              "             ('farm', 4),\n",
              "             ('22', 6),\n",
              "             ('knowing', 2),\n",
              "             ('trusting', 1),\n",
              "             ('sucka', 2),\n",
              "             ('must', 18),\n",
              "             ('can', 138),\n",
              "             ('tweet', 18),\n",
              "             ('burnnotice', 1),\n",
              "             ('fi', 1),\n",
              "             ('shoots', 2),\n",
              "             ('bean', 1),\n",
              "             ('bag', 10),\n",
              "             ('rounds', 3),\n",
              "             ('guy', 22),\n",
              "             ('hurts', 2),\n",
              "             ('polotags20', 1),\n",
              "             ('surviving', 1),\n",
              "             ('queen', 6),\n",
              "             ('stay', 20),\n",
              "             ('wet', 7),\n",
              "             ('shes', 5),\n",
              "             ('around', 33),\n",
              "             ('lick', 4),\n",
              "             ('till', 11),\n",
              "             ('wetter', 1),\n",
              "             ('then', 89),\n",
              "             ('never', 59),\n",
              "             ('before', 52),\n",
              "             ('getting', 39),\n",
              "             ('started', 7),\n",
              "             ('oh', 50),\n",
              "             ('steelobrim', 1),\n",
              "             ('captain', 6),\n",
              "             ('kirk', 2),\n",
              "             ('makem', 1),\n",
              "             ('eat', 30),\n",
              "             ('since', 15),\n",
              "             ('eating', 15),\n",
              "             ('major', 3),\n",
              "             ('nomore', 2),\n",
              "             ('kinghorsedick', 3),\n",
              "             ('jody', 1),\n",
              "             ('really', 65),\n",
              "             ('jump', 4),\n",
              "             ('him', 57),\n",
              "             ('take', 55),\n",
              "             ('bike', 4),\n",
              "             ('sonned', 1),\n",
              "             ('front', 12),\n",
              "             ('mama', 4),\n",
              "             ('josh', 4),\n",
              "             ('helton', 1),\n",
              "             ('xbox', 4),\n",
              "             ('live', 29),\n",
              "             ('fags', 36),\n",
              "             ('those', 54),\n",
              "             ('v', 3),\n",
              "             ('necks', 2),\n",
              "             ('now', 97),\n",
              "             ('ho', 37),\n",
              "             ('firemunky', 1),\n",
              "             ('become', 3),\n",
              "             ('nation', 6),\n",
              "             ('giant', 3),\n",
              "             ('dripping', 1),\n",
              "             ('whiny', 2),\n",
              "             ('pussies', 6),\n",
              "             ('anyway', 9),\n",
              "             ('make', 69),\n",
              "             ('dude', 20),\n",
              "             ('president', 12),\n",
              "             ('iraq', 6),\n",
              "             ('even', 65),\n",
              "             ('joethemailman', 1),\n",
              "             ('emilyrs', 1),\n",
              "             ('could', 50),\n",
              "             ('care', 12),\n",
              "             ('less', 4),\n",
              "             ('benghazi', 4),\n",
              "             ('victims', 2),\n",
              "             ('derekt529', 1),\n",
              "             ('see', 88),\n",
              "             ('adolfhibsta', 2),\n",
              "             ('personality', 1),\n",
              "             ('trash', 382),\n",
              "             ('stopped', 4),\n",
              "             ('talking', 45),\n",
              "             ('after', 33),\n",
              "             ('sex', 18),\n",
              "             ('cant', 20),\n",
              "             ('young', 15),\n",
              "             ('acting', 14),\n",
              "             ('juicistrawberry', 1),\n",
              "             ('kik', 2),\n",
              "             ('hoesyou', 1),\n",
              "             ('either', 18),\n",
              "             ('gone', 15),\n",
              "             ('pot', 6),\n",
              "             ('kanye', 2),\n",
              "             ('video', 25),\n",
              "             ('made', 31),\n",
              "             ('mane', 2),\n",
              "             ('bruh', 20),\n",
              "             ('how', 125),\n",
              "             ('throw', 13),\n",
              "             ('shots', 4),\n",
              "             ('barrack', 1),\n",
              "             ('den', 4),\n",
              "             ('daberela', 1),\n",
              "             ('demolishing', 1),\n",
              "             ('huge', 5),\n",
              "             ('sharing', 1),\n",
              "             ('caring', 2),\n",
              "             ('maybe', 16),\n",
              "             ('two', 40),\n",
              "             ('nigguh', 18),\n",
              "             ('call', 60),\n",
              "             ('through', 9),\n",
              "             ('obey', 1),\n",
              "             ('jrock', 1),\n",
              "             ('true', 17),\n",
              "             ('ride', 9),\n",
              "             ('die', 23),\n",
              "             ('pistol', 2),\n",
              "             ('pete96', 2),\n",
              "             ('zp3', 1),\n",
              "             ('doubt', 5),\n",
              "             ('piece', 7),\n",
              "             ('white', 169),\n",
              "             ('say', 84),\n",
              "             ('proudly', 2),\n",
              "             ('trippy', 1),\n",
              "             ('who', 120),\n",
              "             ('hennessy', 1),\n",
              "             ('heartbroken', 1),\n",
              "             ('wedding', 2),\n",
              "             ('dumb', 39),\n",
              "             ('trippin', 1),\n",
              "             ('btchs', 1),\n",
              "             ('right', 60),\n",
              "             ('face', 19),\n",
              "             ('dnt', 4),\n",
              "             ('nan', 1),\n",
              "             ('gne', 1),\n",
              "             ('b', 26),\n",
              "             ('fwher', 1),\n",
              "             ('aint', 37),\n",
              "             ('playin', 9),\n",
              "             ('jealous', 5),\n",
              "             ('woman', 18),\n",
              "             ('does', 41),\n",
              "             ('better', 44),\n",
              "             ('research', 1),\n",
              "             ('than', 67),\n",
              "             ('fbi', 1),\n",
              "             ('slayed', 2),\n",
              "             ('wayne', 2),\n",
              "             ('went', 16),\n",
              "             ('ape', 9),\n",
              "             ('tht', 4),\n",
              "             ('krazy', 1),\n",
              "             ('there', 81),\n",
              "             ('apparently', 4),\n",
              "             ('wee', 2),\n",
              "             ('cunt', 42),\n",
              "             ('whos', 11),\n",
              "             ('year', 15),\n",
              "             ('younger', 2),\n",
              "             ('called', 35),\n",
              "             ('sean', 2),\n",
              "             ('brown', 17),\n",
              "             ('cheeky', 1),\n",
              "             ('wordscience', 1),\n",
              "             ('start', 19),\n",
              "             ('telling', 4),\n",
              "             ('lives', 4),\n",
              "             ('advice', 4),\n",
              "             ('gwenyth', 1),\n",
              "             ('sister', 3),\n",
              "             ('told', 17),\n",
              "             ('calling', 13),\n",
              "             ('women', 35),\n",
              "             ('gabrielaangela4', 2),\n",
              "             ('deliaparedez', 1),\n",
              "             ('stephyrae7', 4),\n",
              "             ('theonemiss', 2),\n",
              "             ('luu', 2),\n",
              "             ('ramona', 1),\n",
              "             ('pilar', 1),\n",
              "             ('rikki', 1),\n",
              "             ('lovee', 1),\n",
              "             ('whatever', 10),\n",
              "             ('gabby', 1),\n",
              "             ('hair', 15),\n",
              "             ('fixed', 3),\n",
              "             ('mall', 4),\n",
              "             ('friends', 26),\n",
              "             ('buying', 6),\n",
              "             ('outfits', 1),\n",
              "             ('next', 30),\n",
              "             ('2', 61),\n",
              "             ('worst', 12),\n",
              "             ('looking', 28),\n",
              "             ('ever', 47),\n",
              "             ('seen', 23),\n",
              "             ('hey', 27),\n",
              "             ('genesis', 1),\n",
              "             ('tna', 1),\n",
              "             ('watching', 20),\n",
              "             ('cannot', 80),\n",
              "             ('mocklive', 1),\n",
              "             ('such', 32),\n",
              "             ('sometimes', 12),\n",
              "             ('justoneasian', 1),\n",
              "             ('every', 46),\n",
              "             ('bug', 2),\n",
              "             ('have', 203),\n",
              "             ('killed', 12),\n",
              "             ('asses', 2),\n",
              "             ('came', 11),\n",
              "             ('into', 57),\n",
              "             ('house', 26),\n",
              "             ('uninvited', 2),\n",
              "             ('gordonshuckrow', 1),\n",
              "             ('someone', 32),\n",
              "             ('racist', 45),\n",
              "             ('same', 29),\n",
              "             ('sentence', 4),\n",
              "             ('without', 15),\n",
              "             ('losing', 8),\n",
              "             ('credibility', 1),\n",
              "             ('franchein', 1),\n",
              "             ('22duces20', 1),\n",
              "             ('happy', 32),\n",
              "             ('birthday', 20),\n",
              "             ('cousin', 3),\n",
              "             ('remember', 19),\n",
              "             ('1nonlydirtymike', 2),\n",
              "             ('hope', 24),\n",
              "             ('keelivinlavish', 1),\n",
              "             ('wanna', 54),\n",
              "             ('cuz', 25),\n",
              "             ('molly', 3),\n",
              "             ('dem', 15),\n",
              "             ('high', 23),\n",
              "             ('lying', 11),\n",
              "             ('cunts', 8),\n",
              "             ('lyndsay', 1),\n",
              "             ('sue', 4),\n",
              "             ('x2', 1),\n",
              "             ('ford', 4),\n",
              "             ('fancy', 3),\n",
              "             ('name', 34),\n",
              "             ('mobile', 1),\n",
              "             ('softestmuffin', 4),\n",
              "             ('tee13', 4),\n",
              "             ('torahblaze', 6),\n",
              "             ('other', 38),\n",
              "             ('words', 8),\n",
              "             ('accustomed', 1),\n",
              "             ('niggers', 61),\n",
              "             ('muchyour', 1),\n",
              "             ('almighty', 1),\n",
              "             ('nigger', 119),\n",
              "             ('niggaz', 9),\n",
              "             ('least', 16),\n",
              "             ('ugly', 53),\n",
              "             ('number', 7),\n",
              "             ('phone', 24),\n",
              "             ('summer', 9),\n",
              "             ('meet', 14),\n",
              "             ('where', 42),\n",
              "             ('witcha', 1),\n",
              "             ('tonight', 17),\n",
              "             ('chippewaskylark', 1),\n",
              "             ('celeb', 1),\n",
              "             ('nudes', 7),\n",
              "             ('leak', 2),\n",
              "             ('bodies', 2),\n",
              "             ('try', 33),\n",
              "             ('critique', 1),\n",
              "             ('tick', 2),\n",
              "             ('hunting', 2),\n",
              "             ('blood', 6),\n",
              "             ('nuke', 1),\n",
              "             ('town', 9),\n",
              "             ('iamkatjohnson', 1),\n",
              "             ('1inkkofrosess', 4),\n",
              "             ('jamesnasty', 1),\n",
              "             ('ready', 12),\n",
              "             ('rant', 3),\n",
              "             ('gfs', 1),\n",
              "             ('dogs', 5),\n",
              "             ('tears', 1),\n",
              "             ('handle', 4),\n",
              "             ('liquor', 6),\n",
              "             ('club', 7),\n",
              "             ('popularcritic1', 1),\n",
              "             ('discordianslip', 1),\n",
              "             ('fredrogers75', 1),\n",
              "             ('thought', 27),\n",
              "             ('camera', 3),\n",
              "             ('would', 103),\n",
              "             ('steal', 8),\n",
              "             ('soul', 5),\n",
              "             ('shut', 36),\n",
              "             ('stupid', 49),\n",
              "             ('twat', 6),\n",
              "             ('qwestsidefoolay', 1),\n",
              "             ('miragotthejuice', 1),\n",
              "             ('woah', 1),\n",
              "             ('ravenpeltier', 1),\n",
              "             ('jesuslovinj', 1),\n",
              "             ('r', 16),\n",
              "             ('y', 12),\n",
              "             ('c', 8),\n",
              "             ('e', 5),\n",
              "             ('whothatbe', 1),\n",
              "             ('lae', 1),\n",
              "             ('raising', 1),\n",
              "             ('asia', 1),\n",
              "             ('dance', 4),\n",
              "             ('sloppy', 5),\n",
              "             ('top', 20),\n",
              "             ('hoppy', 1),\n",
              "             ('gave', 18),\n",
              "             ('toppy', 2),\n",
              "             ('goddess', 1),\n",
              "             ('sippin', 1),\n",
              "             ('patron', 2),\n",
              "             ('bone', 9),\n",
              "             ('fucked', 18),\n",
              "             ('gon', 17),\n",
              "             ('chrisbegettinit', 1),\n",
              "             ('100d', 3),\n",
              "             ('zero', 3),\n",
              "             ('nap', 5),\n",
              "             ('stick', 3),\n",
              "             ('side', 13),\n",
              "             ('fall', 8),\n",
              "             ('forreal', 3),\n",
              "             ('ain', 1),\n",
              "             ('lie', 14),\n",
              "             ('eljefedejefes4c', 1),\n",
              "             ('mind', 10),\n",
              "             ('haha', 16),\n",
              "             ('broaddayjay', 1),\n",
              "             ('fellas', 2),\n",
              "             ('stock', 2),\n",
              "             ('thermals', 1),\n",
              "             ('timbs', 3),\n",
              "             ('dykes', 5),\n",
              "             ('buy', 19),\n",
              "             ('hungry', 5),\n",
              "             ('as', 145),\n",
              "             ('ferkin', 1),\n",
              "             ('nips', 6),\n",
              "             ('punk', 9),\n",
              "             ('cop', 7),\n",
              "             ('bulldogged', 1),\n",
              "             ('marissaaxoo', 1),\n",
              "             ('screen', 4),\n",
              "             ('shot', 13),\n",
              "             ('dad', 13),\n",
              "             ('namefaggots', 1),\n",
              "             ('fitting', 2),\n",
              "             ('tkdfighter', 1),\n",
              "             ('colored', 62),\n",
              "             ('dabxkiddjoe', 1),\n",
              "             ('bunch', 7),\n",
              "             ('insecure', 3),\n",
              "             ('hate', 93),\n",
              "             ('put', 34),\n",
              "             ('between', 13),\n",
              "             ('should', 56),\n",
              "             ('beat', 26),\n",
              "             ('ill', 14),\n",
              "             ('show', 35),\n",
              "             ('angellongoria1', 1),\n",
              "             ('neymar', 3),\n",
              "             ('fell', 3),\n",
              "             ('fuhk', 1),\n",
              "             ('classic', 3),\n",
              "             ('joint', 1),\n",
              "             ('shoot', 12),\n",
              "             ('look', 88),\n",
              "             ('blank', 1),\n",
              "             ('stare', 1),\n",
              "             ('shanked', 1),\n",
              "             ('pancreas', 1),\n",
              "             ('danram70', 1),\n",
              "             ('buflo', 1),\n",
              "             ('dolla', 1),\n",
              "             ('shikeattike', 1),\n",
              "             ('neighborhood', 4),\n",
              "             ('freak', 3),\n",
              "             ('catch', 7),\n",
              "             ('coach', 8),\n",
              "             ('said', 62),\n",
              "             ('attitude', 3),\n",
              "             ('wendydavistexas', 4),\n",
              "             ('msnbc', 3),\n",
              "             ('msm', 1),\n",
              "             ('blocking', 2),\n",
              "             ('flights', 1),\n",
              "             ('africa', 3),\n",
              "             ('yea', 11),\n",
              "             ('id', 10),\n",
              "             ('vote', 11),\n",
              "             ('gold', 9),\n",
              "             ('digger', 1),\n",
              "             ('lovezanda', 1),\n",
              "             ('knw', 1),\n",
              "             ('misspell', 1),\n",
              "             ('ion', 16),\n",
              "             ('proof', 2),\n",
              "             ('read', 11),\n",
              "             ('ima', 18),\n",
              "             ('jarievee', 1),\n",
              "             ('24', 12),\n",
              "             ('found', 16),\n",
              "             ('drag', 1),\n",
              "             ('car', 13),\n",
              "             ('fighting', 4),\n",
              "             ('hea', 1),\n",
              "             ('tell', 41),\n",
              "             ('forgot', 9),\n",
              "             ('fact', 11),\n",
              "             ('alot', 4),\n",
              "             ('leelucas', 3),\n",
              "             ('1046729', 2),\n",
              "             ('mo', 5),\n",
              "             ('special', 11),\n",
              "             ('ed', 3),\n",
              "             ('darlene', 1),\n",
              "             ('backatown', 1),\n",
              "             ('night', 27),\n",
              "             ('drummerkid0328', 2),\n",
              "             ('shits', 3),\n",
              "             ('dry', 3),\n",
              "             ('ask', 20),\n",
              "             ('water', 13),\n",
              "             ('tha', 7),\n",
              "             ('lastqueen', 1),\n",
              "             ('bri', 2),\n",
              "             ('claim', 4),\n",
              "             ('fvck', 1),\n",
              "             ('pregnant', 11),\n",
              "             ('somebody', 15),\n",
              "             ('lien', 1),\n",
              "             ('bigg', 1),\n",
              "             ('boss23', 1),\n",
              "             ('fights', 1),\n",
              "             ('females', 6),\n",
              "             ('t', 6),\n",
              "             ('flye', 1),\n",
              "             ('rolling', 1),\n",
              "             ('dip', 2),\n",
              "             ('guys', 22),\n",
              "             ('double', 9),\n",
              "             ('standard', 3),\n",
              "             ('exist', 5),\n",
              "             ('jordan536633', 1),\n",
              "             ('heydenbunsyolo', 1),\n",
              "             ('bird', 112),\n",
              "             ('lovin', 2),\n",
              "             ('huh', 11),\n",
              "             ('gonna', 53),\n",
              "             ('thing', 26),\n",
              "             ('sir', 7),\n",
              "             ('page', 6),\n",
              "             ('modern', 1),\n",
              "             ('singers', 1),\n",
              "             ('talk', 46),\n",
              "             ('rappers', 4),\n",
              "             ('loudhoes', 1),\n",
              "             ('karma', 5),\n",
              "             ('goin', 5),\n",
              "             ('suck', 15),\n",
              "             ('iaintshitbruh', 1),\n",
              "             ('win', 15),\n",
              "             ('again', 22),\n",
              "             ('trackinblackkev', 1),\n",
              "             ('michelledbeadle', 1),\n",
              "             ('beattyjustin', 1),\n",
              "             ('kyoppcoalition', 1),\n",
              "             ('go', 103),\n",
              "             ('amber', 3),\n",
              "             ('leaf', 1),\n",
              "             ('papers', 2),\n",
              "             ('cani', 1),\n",
              "             ('arsed', 1),\n",
              "             ('walking', 8),\n",
              "             ('nisa', 1),\n",
              "             ('lazy', 4),\n",
              "             ('keep', 31),\n",
              "             ('squirter', 1),\n",
              "             ('souljaboy', 2),\n",
              "             ('kmichelle', 1),\n",
              "             ('shitty', 3),\n",
              "             ('understand', 12),\n",
              "             ('childish', 3),\n",
              "             ('paradoxicalmike', 1),\n",
              "             ('tramp', 1),\n",
              "             ('slut', 6),\n",
              "             ('joshmtz1199', 1),\n",
              "             ('starving', 1),\n",
              "             ('cblaze', 3),\n",
              "             ('complaining', 5),\n",
              "             ('accidentally', 3),\n",
              "             ('fat', 33),\n",
              "             ('black', 81),\n",
              "             ('jeremyadams', 1),\n",
              "             ('sick', 17),\n",
              "             ('fake', 18),\n",
              "             ('pufntrees', 2),\n",
              "             ('chemistry', 1),\n",
              "             ('only', 80),\n",
              "             ('timing', 1),\n",
              "             ('timings', 1),\n",
              "             ('rather', 16),\n",
              "             ('selfies', 3),\n",
              "             ('dont', 59),\n",
              "             ('change', 13),\n",
              "             ('case', 9),\n",
              "             ('mondays', 1),\n",
              "             ('jaybey', 1),\n",
              "             ('poster', 1),\n",
              "             ('ijs', 1),\n",
              "             ('xendaya', 1),\n",
              "             ('xo', 3),\n",
              "             ('attractive', 4),\n",
              "             ('any', 48),\n",
              "             ('straight', 14),\n",
              "             ('wants', 17),\n",
              "             ('friendbitch', 1),\n",
              "             ('fresh', 3),\n",
              "             ('kno', 5),\n",
              "             ('clean', 4),\n",
              "             ('working', 10),\n",
              "             ('team', 20),\n",
              "             ('rich', 11),\n",
              "             ('saltlife13', 1),\n",
              "             ('chill', 11),\n",
              "             ('doing', 22),\n",
              "             ('favorite', 18),\n",
              "             ('tryna', 20),\n",
              "             ('cheat', 6),\n",
              "             ('fly', 9),\n",
              "             ('air', 7),\n",
              "             ('walker', 2),\n",
              "             ('entitled', 1),\n",
              "             ('own', 20),\n",
              "             ('opinion', 6),\n",
              "             ('sit', 11),\n",
              "             ('zuko', 1),\n",
              "             ('gets', 21),\n",
              "             ('jamaica', 1),\n",
              "             ('attend', 1),\n",
              "             ('wild', 7),\n",
              "             ('dancehall', 1),\n",
              "             ('events', 1),\n",
              "             ('five', 1),\n",
              "             ('star', 7),\n",
              "             ('frog', 2),\n",
              "             ('splash', 3),\n",
              "             ('tree', 2),\n",
              "             ('wshh', 1),\n",
              "             ('versacecum', 1),\n",
              "             ('using', 6),\n",
              "             ('halloween', 8),\n",
              "             ('an', 100),\n",
              "             ('excuse', 4),\n",
              "             ('act', 17),\n",
              "             ('away', 23),\n",
              "             ('woodpusha', 1),\n",
              "             ('hickey', 1),\n",
              "             ('fucc', 6),\n",
              "             ('primo', 2),\n",
              "             ('nobody', 13),\n",
              "             ('fav', 3),\n",
              "             ('dink', 3),\n",
              "             ('lies', 3),\n",
              "             ('jemapelledalila', 1),\n",
              "             ('yadirasarmiento', 1),\n",
              "             ('stonisnipezz', 2),\n",
              "             ('fuckin', 46),\n",
              "             ('pill', 3),\n",
              "             ('chamberlain', 2),\n",
              "             ('music', 26),\n",
              "             ('nah', 18),\n",
              "             ('set', 13),\n",
              "             ('ugliest', 4),\n",
              "             ('time', 72),\n",
              "             ('officially', 2),\n",
              "             ('dawg', 6),\n",
              "             ('maxwell', 3),\n",
              "             ('larsen', 3),\n",
              "             ('jakes', 1),\n",
              "             ('john', 10),\n",
              "             ('elway', 1),\n",
              "             ('way', 42),\n",
              "             ('dorsey', 1),\n",
              "             ('alammus', 1),\n",
              "             ('wesideconnect', 1),\n",
              "             ('arbitrarydesign', 1),\n",
              "             ('jehu', 1),\n",
              "             ('michaelsayeth', 1),\n",
              "             ('fellow', 3),\n",
              "             ('anarchists', 1),\n",
              "             ('quit', 10),\n",
              "             ('vaginas', 1),\n",
              "             ('p', 5),\n",
              "             ('jr', 4),\n",
              "             ('lilhakbeatz', 1),\n",
              "             ('returnofthemarc', 1),\n",
              "             ('ray', 5),\n",
              "             ('rice', 6),\n",
              "             ('left', 14),\n",
              "             ('remix', 1),\n",
              "             ('tosoon', 1),\n",
              "             ('http', 20),\n",
              "             ('ole', 5),\n",
              "             ('vertybstard', 1),\n",
              "             ('honky', 2),\n",
              "             ('ajoya', 1),\n",
              "             ('victor', 1),\n",
              "             ('shawn', 1),\n",
              "             ('legs', 6),\n",
              "             ('hurt', 10),\n",
              "             ('jigg', 2),\n",
              "             ('al', 13),\n",
              "             ('teez', 1),\n",
              "             ('cowboys', 3),\n",
              "             ('days', 23),\n",
              "             ('chojis', 1),\n",
              "             ('kid', 8),\n",
              "             ('devin', 2),\n",
              "             ('stats', 1),\n",
              "             ('test', 8),\n",
              "             ('our', 42),\n",
              "             ('dead', 14),\n",
              "             ('sucking', 5),\n",
              "             ('condomthen', 1),\n",
              "             ('rock', 6),\n",
              "             ('whitw', 1),\n",
              "             ('dress', 8),\n",
              "             ('icewear', 1),\n",
              "             ('vezzo', 1),\n",
              "             ('voice', 8),\n",
              "             ('police', 13),\n",
              "             ('round', 5),\n",
              "             ('whitesidemzu', 1),\n",
              "             ('sandwhich', 1),\n",
              "             ('doesnt', 4),\n",
              "             ('hear', 19),\n",
              "             ('whispers', 1),\n",
              "             ('myself', 10),\n",
              "             ('deaf', 1),\n",
              "             ('sa', 5),\n",
              "             ('addicted', 2),\n",
              "             ('poppin', 2),\n",
              "             ('hahahaha', 5),\n",
              "             ('spilt', 1),\n",
              "             ('coffee', 11),\n",
              "             ('everywhere', 6),\n",
              "             ('tyra', 1),\n",
              "             ('banks', 3),\n",
              "             ('paid', 3),\n",
              "             ('americas', 2),\n",
              "             ('model', 4),\n",
              "             ('re', 2),\n",
              "             ('runs', 5),\n",
              "             ('bossy', 2),\n",
              "             ('racks', 1),\n",
              "             ('exlibris', 1),\n",
              "             ('embarrassment', 3),\n",
              "             ...])"
            ]
          },
          "metadata": {
            "tags": []
          },
          "execution_count": 26
        }
      ]
    },
    {
      "cell_type": "code",
      "metadata": {
        "colab": {
          "base_uri": "https://localhost:8080/"
        },
        "id": "Sa7ieXugNlb6",
        "outputId": "80b24180-5804-4335-847c-2b66dce716c7"
      },
      "source": [
        "len(token.word_counts)"
      ],
      "execution_count": 27,
      "outputs": [
        {
          "output_type": "execute_result",
          "data": {
            "text/plain": [
              "11837"
            ]
          },
          "metadata": {
            "tags": []
          },
          "execution_count": 27
        }
      ]
    },
    {
      "cell_type": "code",
      "metadata": {
        "colab": {
          "base_uri": "https://localhost:8080/"
        },
        "id": "AtoVgOEQNwmV",
        "outputId": "7d5333e8-cce9-461d-b83f-022e46c19061"
      },
      "source": [
        "x = ['i love you']\n",
        "token.texts_to_sequences(x)"
      ],
      "execution_count": 28,
      "outputs": [
        {
          "output_type": "execute_result",
          "data": {
            "text/plain": [
              "[[2, 78, 5]]"
            ]
          },
          "metadata": {
            "tags": []
          },
          "execution_count": 28
        }
      ]
    },
    {
      "cell_type": "code",
      "metadata": {
        "colab": {
          "base_uri": "https://localhost:8080/"
        },
        "id": "_fQPle2xOE66",
        "outputId": "bbe6e6fa-a4db-4367-c4a8-02b9a51d3b46"
      },
      "source": [
        "x = ['i love you so much']\n",
        "token.texts_to_sequences(x)"
      ],
      "execution_count": 29,
      "outputs": [
        {
          "output_type": "execute_result",
          "data": {
            "text/plain": [
              "[[2, 78, 5, 30, 177]]"
            ]
          },
          "metadata": {
            "tags": []
          },
          "execution_count": 29
        }
      ]
    },
    {
      "cell_type": "code",
      "metadata": {
        "id": "3PljMDf4OKX7"
      },
      "source": [
        "vocab_size = len(token.word_counts) + 1"
      ],
      "execution_count": 30,
      "outputs": []
    },
    {
      "cell_type": "code",
      "metadata": {
        "id": "5RPoct44OVRI"
      },
      "source": [
        "encoded_text = token.texts_to_sequences(text)"
      ],
      "execution_count": 31,
      "outputs": []
    },
    {
      "cell_type": "code",
      "metadata": {
        "colab": {
          "base_uri": "https://localhost:8080/"
        },
        "id": "vsfV0RprOaQ6",
        "outputId": "6908d909-4e57-4b4d-89d9-2672fc728c2c"
      },
      "source": [
        "for i in range(5):\n",
        "  print(encoded_text[i])"
      ],
      "execution_count": 32,
      "outputs": [
        {
          "output_type": "stream",
          "text": [
            "[83, 11, 43, 3870, 169, 2291, 1, 8, 326, 179, 55, 213, 43]\n",
            "[8, 31, 1101, 12, 214, 9, 454, 6, 189, 19, 1332, 8, 39, 27]\n",
            "[3871, 14, 89, 32, 130, 296, 3872, 1333, 3873]\n",
            "[2, 78, 125, 32, 15, 12, 58, 3874, 9, 227, 35, 26, 17, 33, 3875, 16, 1, 58, 3876]\n",
            "[4, 3877, 3878, 32]\n"
          ],
          "name": "stdout"
        }
      ]
    },
    {
      "cell_type": "markdown",
      "metadata": {
        "id": "TjpD-0noOntm"
      },
      "source": [
        "We can see the length of each tweet are not consistent.\n",
        "We still have to choose a fixed length for our DL model."
      ]
    },
    {
      "cell_type": "code",
      "metadata": {
        "id": "oviE92pNOnAC"
      },
      "source": [
        "max_length = 120\n",
        "X = pad_sequences(encoded_text, max_length, padding= 'post') #add paddings after the text"
      ],
      "execution_count": 33,
      "outputs": []
    },
    {
      "cell_type": "code",
      "metadata": {
        "colab": {
          "base_uri": "https://localhost:8080/"
        },
        "id": "t-T2VsAhPJda",
        "outputId": "61c67d2f-761c-49a4-d905-e5f211dc95a8"
      },
      "source": [
        "print(X)"
      ],
      "execution_count": 34,
      "outputs": [
        {
          "output_type": "stream",
          "text": [
            "[[   83    11    43 ...     0     0     0]\n",
            " [    8    31  1101 ...     0     0     0]\n",
            " [ 3871    14    89 ...     0     0     0]\n",
            " ...\n",
            " [    4 11830 11831 ...     0     0     0]\n",
            " [    2    91     3 ...     0     0     0]\n",
            " [11837    61   749 ...     0     0     0]]\n"
          ],
          "name": "stdout"
        }
      ]
    },
    {
      "cell_type": "code",
      "metadata": {
        "colab": {
          "base_uri": "https://localhost:8080/"
        },
        "id": "e_WQ7CxgPKPB",
        "outputId": "c257681e-1d68-4e83-c589-ae0116276ab3"
      },
      "source": [
        "X.shape"
      ],
      "execution_count": 35,
      "outputs": [
        {
          "output_type": "execute_result",
          "data": {
            "text/plain": [
              "(4290, 120)"
            ]
          },
          "metadata": {
            "tags": []
          },
          "execution_count": 35
        }
      ]
    },
    {
      "cell_type": "markdown",
      "metadata": {
        "id": "PL-MkRktPTYd"
      },
      "source": [
        "#3. Model building"
      ]
    },
    {
      "cell_type": "markdown",
      "metadata": {
        "id": "vZkjXZhSPZVm"
      },
      "source": [
        "## 3.1. Train test split"
      ]
    },
    {
      "cell_type": "code",
      "metadata": {
        "id": "_5ZkN5L-PYRQ"
      },
      "source": [
        "# Create one-hot encoded vectors for y\n",
        "y = np_utils.to_categorical(df_bal['class'])"
      ],
      "execution_count": 42,
      "outputs": []
    },
    {
      "cell_type": "code",
      "metadata": {
        "colab": {
          "base_uri": "https://localhost:8080/"
        },
        "id": "FdcYgBsXPzqg",
        "outputId": "da6456f2-084f-4c7d-9c3e-50d07e0cbf60"
      },
      "source": [
        "y"
      ],
      "execution_count": 43,
      "outputs": [
        {
          "output_type": "execute_result",
          "data": {
            "text/plain": [
              "array([[0., 1., 0.],\n",
              "       [0., 1., 0.],\n",
              "       [0., 1., 0.],\n",
              "       ...,\n",
              "       [1., 0., 0.],\n",
              "       [1., 0., 0.],\n",
              "       [1., 0., 0.]], dtype=float32)"
            ]
          },
          "metadata": {
            "tags": []
          },
          "execution_count": 43
        }
      ]
    },
    {
      "cell_type": "code",
      "metadata": {
        "colab": {
          "base_uri": "https://localhost:8080/"
        },
        "id": "JLarZwDCQQz8",
        "outputId": "9242e8ec-b977-4aec-d5f0-da65e97fa698"
      },
      "source": [
        "y.shape"
      ],
      "execution_count": 44,
      "outputs": [
        {
          "output_type": "execute_result",
          "data": {
            "text/plain": [
              "(4290, 3)"
            ]
          },
          "metadata": {
            "tags": []
          },
          "execution_count": 44
        }
      ]
    },
    {
      "cell_type": "code",
      "metadata": {
        "colab": {
          "base_uri": "https://localhost:8080/"
        },
        "id": "LkNy5edMP544",
        "outputId": "5b74091a-e9f1-48a3-a1e3-54a647f04846"
      },
      "source": [
        "X_train, X_test, y_train ,y_test = train_test_split(X,y,test_size = 0.2, random_state = 0, stratify = y)\n",
        "\n",
        "X_train.shape,X_test.shape"
      ],
      "execution_count": 45,
      "outputs": [
        {
          "output_type": "execute_result",
          "data": {
            "text/plain": [
              "((3432, 120), (858, 120))"
            ]
          },
          "metadata": {
            "tags": []
          },
          "execution_count": 45
        }
      ]
    },
    {
      "cell_type": "markdown",
      "metadata": {
        "id": "KbX3KjsJQmeQ"
      },
      "source": [
        "## 3.2. Build the model"
      ]
    },
    {
      "cell_type": "code",
      "metadata": {
        "id": "_cBISBvoQIwc"
      },
      "source": [
        "vec_size = 300\n",
        "model = Sequential()\n",
        "# Embedding layer takes in encoded tweet with dim = vocab_size(120), and output a vector with vec_size = 300\n",
        "model.add(Embedding(vocab_size, vec_size, input_length= 120))\n",
        "\n",
        "model.add(Conv1D(32,2, activation= 'relu'))\n",
        "model.add(MaxPool1D(2))\n",
        "model.add(Dropout(0.2))\n",
        "\n",
        "model.add(Dense(32,activation='relu'))\n",
        "model.add(GlobalMaxPooling1D())\n",
        "model.add(Dense(3,activation='softmax'))\n"
      ],
      "execution_count": 52,
      "outputs": []
    },
    {
      "cell_type": "code",
      "metadata": {
        "colab": {
          "base_uri": "https://localhost:8080/"
        },
        "id": "SUuk3So9R6GX",
        "outputId": "543482d7-89df-44ef-aa1b-fe0974715fd7"
      },
      "source": [
        "model.compile(optimizer = Adam(0.001), loss = 'categorical_crossentropy', metrics = ['accuracy'])\n",
        "model.fit(X_train,y_train,epochs = 5, validation_data = (X_test,y_test))"
      ],
      "execution_count": 53,
      "outputs": [
        {
          "output_type": "stream",
          "text": [
            "Epoch 1/5\n",
            "108/108 [==============================] - 5s 39ms/step - loss: 1.0200 - accuracy: 0.5055 - val_loss: 0.7894 - val_accuracy: 0.7413\n",
            "Epoch 2/5\n",
            "108/108 [==============================] - 4s 37ms/step - loss: 0.5604 - accuracy: 0.8065 - val_loss: 0.5325 - val_accuracy: 0.7692\n",
            "Epoch 3/5\n",
            "108/108 [==============================] - 4s 38ms/step - loss: 0.3361 - accuracy: 0.8718 - val_loss: 0.5451 - val_accuracy: 0.7681\n",
            "Epoch 4/5\n",
            "108/108 [==============================] - 4s 38ms/step - loss: 0.1884 - accuracy: 0.9382 - val_loss: 0.6126 - val_accuracy: 0.7564\n",
            "Epoch 5/5\n",
            "108/108 [==============================] - 4s 38ms/step - loss: 0.0919 - accuracy: 0.9723 - val_loss: 0.7107 - val_accuracy: 0.7506\n"
          ],
          "name": "stdout"
        },
        {
          "output_type": "execute_result",
          "data": {
            "text/plain": [
              "<tensorflow.python.keras.callbacks.History at 0x7f08902e2610>"
            ]
          },
          "metadata": {
            "tags": []
          },
          "execution_count": 53
        }
      ]
    },
    {
      "cell_type": "markdown",
      "metadata": {
        "id": "7p30-taJUP0V"
      },
      "source": [
        "## 3.3. Model testing"
      ]
    },
    {
      "cell_type": "code",
      "metadata": {
        "id": "1Vz8CITuSZ3w"
      },
      "source": [
        "y_pred = np.argmax(model.predict(X_test), axis=-1)"
      ],
      "execution_count": 57,
      "outputs": []
    },
    {
      "cell_type": "code",
      "metadata": {
        "colab": {
          "base_uri": "https://localhost:8080/"
        },
        "id": "-xRbCo8yUecM",
        "outputId": "877c436a-b324-4777-9890-acb58eac9c7d"
      },
      "source": [
        "y_pred"
      ],
      "execution_count": 58,
      "outputs": [
        {
          "output_type": "execute_result",
          "data": {
            "text/plain": [
              "array([2, 2, 2, 2, 2, 0, 2, 0, 0, 1, 1, 2, 1, 2, 0, 0, 0, 1, 0, 1, 1, 2,\n",
              "       1, 0, 0, 2, 2, 2, 1, 1, 2, 0, 0, 0, 0, 0, 2, 0, 2, 0, 2, 0, 1, 1,\n",
              "       1, 0, 2, 2, 2, 1, 1, 0, 0, 1, 2, 1, 2, 1, 2, 2, 1, 2, 0, 0, 0, 0,\n",
              "       0, 2, 0, 0, 1, 1, 1, 1, 0, 0, 1, 0, 0, 2, 0, 1, 0, 0, 0, 0, 0, 2,\n",
              "       0, 2, 1, 2, 1, 1, 0, 1, 2, 1, 2, 2, 0, 1, 2, 0, 0, 0, 2, 0, 0, 1,\n",
              "       2, 0, 2, 0, 1, 0, 1, 0, 0, 2, 2, 2, 1, 0, 2, 0, 0, 0, 1, 2, 0, 1,\n",
              "       2, 2, 1, 0, 2, 2, 2, 2, 0, 0, 0, 2, 0, 0, 1, 0, 1, 2, 0, 0, 1, 0,\n",
              "       1, 2, 0, 0, 2, 2, 2, 0, 2, 2, 1, 0, 2, 0, 0, 2, 1, 0, 2, 0, 1, 0,\n",
              "       0, 0, 0, 0, 2, 0, 1, 1, 1, 2, 0, 0, 1, 0, 2, 0, 1, 0, 1, 2, 1, 2,\n",
              "       2, 2, 0, 0, 2, 2, 0, 0, 0, 1, 2, 1, 1, 1, 2, 2, 1, 2, 1, 1, 0, 0,\n",
              "       0, 2, 0, 1, 2, 0, 1, 0, 2, 2, 0, 1, 2, 0, 1, 0, 1, 1, 1, 1, 0, 1,\n",
              "       0, 0, 2, 1, 1, 2, 2, 0, 1, 2, 1, 0, 1, 2, 1, 2, 1, 0, 1, 1, 2, 2,\n",
              "       0, 2, 0, 1, 1, 2, 1, 2, 0, 2, 1, 2, 2, 0, 1, 1, 0, 2, 0, 2, 1, 2,\n",
              "       2, 0, 0, 2, 1, 0, 2, 1, 0, 2, 0, 0, 1, 1, 0, 2, 2, 0, 0, 2, 2, 1,\n",
              "       2, 1, 2, 2, 0, 1, 1, 2, 1, 0, 2, 0, 2, 1, 1, 1, 2, 2, 1, 2, 0, 2,\n",
              "       1, 2, 2, 0, 2, 2, 1, 2, 1, 2, 2, 2, 1, 0, 1, 0, 2, 1, 2, 2, 0, 2,\n",
              "       2, 2, 2, 2, 0, 2, 0, 1, 2, 1, 1, 1, 2, 1, 2, 0, 0, 0, 0, 1, 0, 0,\n",
              "       2, 0, 0, 2, 0, 0, 0, 0, 1, 2, 2, 0, 2, 1, 2, 2, 2, 1, 0, 0, 2, 2,\n",
              "       0, 0, 0, 2, 0, 1, 1, 1, 2, 0, 0, 1, 1, 1, 1, 0, 1, 2, 0, 0, 2, 1,\n",
              "       2, 2, 1, 0, 1, 2, 0, 0, 1, 2, 2, 0, 2, 0, 1, 2, 1, 0, 0, 0, 1, 0,\n",
              "       1, 2, 1, 1, 0, 1, 2, 1, 1, 1, 0, 2, 2, 0, 2, 2, 2, 1, 0, 2, 2, 0,\n",
              "       2, 2, 2, 0, 0, 0, 2, 0, 2, 0, 2, 2, 1, 2, 2, 0, 2, 0, 0, 0, 2, 1,\n",
              "       2, 2, 2, 0, 2, 0, 0, 1, 1, 1, 2, 0, 2, 1, 0, 2, 0, 1, 1, 1, 0, 1,\n",
              "       2, 2, 0, 1, 0, 0, 1, 0, 0, 2, 2, 2, 0, 1, 0, 1, 0, 0, 0, 1, 2, 2,\n",
              "       1, 0, 2, 2, 0, 1, 1, 0, 1, 1, 2, 2, 0, 1, 2, 2, 0, 2, 2, 0, 2, 0,\n",
              "       1, 2, 2, 2, 0, 2, 1, 1, 1, 0, 1, 0, 1, 1, 2, 1, 2, 0, 0, 1, 2, 2,\n",
              "       1, 1, 1, 2, 0, 0, 1, 2, 1, 1, 0, 0, 2, 2, 0, 1, 2, 1, 2, 1, 0, 0,\n",
              "       0, 2, 0, 0, 0, 2, 0, 1, 1, 1, 2, 1, 1, 0, 1, 2, 2, 0, 2, 0, 0, 0,\n",
              "       1, 1, 0, 2, 1, 2, 2, 2, 2, 2, 2, 2, 0, 1, 1, 2, 2, 2, 0, 0, 1, 0,\n",
              "       2, 1, 2, 1, 2, 2, 2, 0, 1, 2, 0, 2, 2, 1, 2, 0, 2, 2, 2, 0, 2, 0,\n",
              "       2, 1, 2, 0, 2, 0, 2, 0, 2, 0, 1, 2, 0, 0, 2, 1, 0, 1, 2, 2, 0, 1,\n",
              "       0, 0, 1, 1, 0, 2, 0, 1, 1, 0, 0, 1, 1, 2, 1, 1, 2, 2, 0, 2, 0, 1,\n",
              "       1, 0, 0, 2, 2, 1, 2, 1, 1, 2, 0, 2, 1, 2, 2, 0, 1, 0, 0, 0, 2, 0,\n",
              "       2, 0, 2, 2, 0, 0, 0, 0, 1, 2, 0, 0, 0, 0, 0, 2, 2, 2, 1, 2, 0, 0,\n",
              "       1, 1, 1, 1, 2, 1, 2, 1, 0, 2, 2, 1, 1, 1, 1, 0, 1, 2, 0, 2, 0, 0,\n",
              "       0, 0, 2, 0, 1, 1, 2, 1, 1, 2, 0, 0, 0, 1, 1, 2, 0, 2, 2, 1, 1, 1,\n",
              "       0, 2, 0, 2, 0, 2, 0, 2, 1, 2, 1, 2, 1, 0, 2, 2, 1, 0, 2, 0, 1, 2,\n",
              "       1, 1, 0, 0, 1, 2, 1, 1, 0, 1, 0, 1, 1, 1, 1, 0, 0, 0, 2, 0, 0, 2,\n",
              "       2, 1, 0, 0, 1, 0, 1, 1, 1, 0, 1, 2, 1, 2, 2, 1, 0, 0, 1, 1, 1, 1])"
            ]
          },
          "metadata": {
            "tags": []
          },
          "execution_count": 58
        }
      ]
    },
    {
      "cell_type": "code",
      "metadata": {
        "colab": {
          "base_uri": "https://localhost:8080/"
        },
        "id": "Z45ZrItZU12g",
        "outputId": "c4e02ee7-f5fa-4e80-d2d6-a5c1a2111949"
      },
      "source": [
        "y_test = np.argmax(y_test, axis=-1)\n",
        "y_test"
      ],
      "execution_count": 59,
      "outputs": [
        {
          "output_type": "execute_result",
          "data": {
            "text/plain": [
              "array([2, 2, 2, 2, 2, 0, 2, 1, 0, 1, 1, 2, 0, 0, 0, 0, 1, 1, 2, 0, 1, 2,\n",
              "       1, 1, 0, 2, 0, 2, 1, 1, 2, 1, 2, 0, 1, 2, 2, 0, 1, 0, 2, 2, 1, 1,\n",
              "       1, 0, 2, 2, 2, 0, 1, 0, 0, 1, 2, 1, 1, 1, 2, 0, 0, 2, 0, 0, 0, 0,\n",
              "       1, 2, 1, 0, 1, 0, 0, 2, 0, 0, 1, 1, 0, 2, 1, 1, 0, 1, 0, 0, 1, 2,\n",
              "       0, 0, 1, 0, 0, 1, 0, 1, 2, 0, 2, 1, 1, 1, 2, 0, 0, 0, 2, 0, 0, 1,\n",
              "       2, 0, 0, 0, 1, 1, 1, 0, 0, 2, 2, 2, 1, 0, 2, 1, 0, 0, 1, 2, 0, 2,\n",
              "       2, 1, 0, 0, 2, 2, 2, 2, 1, 0, 2, 2, 0, 0, 1, 1, 1, 2, 0, 0, 1, 1,\n",
              "       2, 2, 0, 2, 0, 0, 2, 0, 2, 0, 0, 0, 2, 0, 0, 2, 0, 0, 2, 0, 1, 1,\n",
              "       2, 0, 0, 0, 2, 0, 1, 1, 1, 2, 0, 0, 1, 0, 2, 0, 1, 2, 1, 2, 0, 1,\n",
              "       2, 2, 1, 0, 2, 2, 1, 0, 1, 0, 2, 1, 1, 1, 2, 2, 1, 2, 1, 1, 1, 0,\n",
              "       0, 2, 1, 1, 2, 0, 1, 2, 2, 2, 0, 1, 2, 2, 1, 0, 1, 1, 1, 0, 1, 1,\n",
              "       0, 0, 2, 1, 1, 2, 2, 0, 1, 2, 0, 0, 1, 2, 0, 2, 1, 0, 1, 1, 1, 2,\n",
              "       0, 2, 0, 1, 1, 2, 0, 2, 0, 2, 1, 2, 1, 0, 1, 1, 0, 2, 0, 2, 0, 2,\n",
              "       2, 0, 0, 2, 1, 1, 2, 1, 0, 2, 0, 0, 1, 1, 0, 2, 2, 0, 0, 2, 2, 0,\n",
              "       2, 1, 2, 2, 0, 1, 1, 2, 1, 0, 1, 1, 2, 0, 1, 0, 2, 2, 1, 2, 0, 2,\n",
              "       0, 2, 2, 0, 2, 2, 1, 2, 1, 2, 2, 2, 1, 0, 1, 0, 2, 1, 2, 2, 0, 2,\n",
              "       2, 2, 2, 0, 0, 2, 0, 1, 2, 0, 1, 1, 2, 1, 2, 1, 0, 0, 0, 1, 1, 0,\n",
              "       2, 0, 0, 0, 0, 0, 2, 1, 1, 2, 0, 0, 2, 1, 0, 2, 2, 1, 1, 0, 2, 0,\n",
              "       0, 0, 1, 2, 0, 2, 1, 1, 2, 0, 0, 1, 1, 1, 1, 1, 1, 1, 0, 0, 2, 1,\n",
              "       2, 2, 1, 0, 1, 2, 1, 0, 1, 1, 2, 0, 0, 0, 1, 2, 1, 0, 0, 2, 1, 0,\n",
              "       0, 2, 1, 0, 0, 1, 2, 1, 0, 1, 0, 2, 2, 1, 2, 2, 1, 0, 0, 0, 1, 0,\n",
              "       2, 2, 2, 0, 1, 0, 1, 1, 2, 0, 2, 2, 1, 2, 2, 0, 2, 0, 0, 2, 2, 2,\n",
              "       2, 2, 2, 0, 2, 2, 0, 1, 0, 1, 2, 0, 2, 1, 0, 1, 2, 1, 1, 1, 1, 1,\n",
              "       2, 1, 0, 1, 1, 2, 1, 2, 0, 0, 2, 1, 0, 0, 0, 0, 0, 0, 0, 1, 2, 2,\n",
              "       1, 1, 0, 2, 0, 0, 1, 1, 1, 1, 2, 2, 0, 1, 2, 2, 1, 2, 2, 1, 2, 0,\n",
              "       1, 2, 2, 2, 2, 2, 1, 1, 1, 0, 0, 0, 1, 0, 2, 0, 2, 0, 1, 1, 2, 2,\n",
              "       1, 1, 1, 2, 0, 0, 0, 2, 1, 1, 0, 0, 2, 2, 0, 2, 2, 1, 2, 1, 0, 0,\n",
              "       0, 0, 0, 0, 1, 2, 0, 0, 1, 0, 2, 1, 1, 0, 1, 2, 2, 0, 2, 1, 1, 0,\n",
              "       2, 1, 0, 2, 0, 2, 2, 0, 2, 2, 2, 1, 0, 1, 0, 2, 2, 2, 2, 1, 1, 2,\n",
              "       2, 1, 2, 0, 2, 2, 0, 0, 1, 2, 0, 2, 2, 1, 0, 2, 2, 2, 2, 0, 0, 1,\n",
              "       2, 1, 2, 2, 2, 0, 2, 0, 2, 0, 1, 2, 2, 1, 0, 2, 1, 1, 2, 2, 2, 1,\n",
              "       1, 1, 0, 1, 1, 2, 0, 0, 1, 0, 2, 1, 0, 0, 1, 1, 2, 2, 2, 2, 0, 1,\n",
              "       0, 1, 0, 2, 1, 1, 2, 1, 1, 2, 0, 2, 1, 1, 2, 1, 1, 0, 1, 0, 2, 1,\n",
              "       2, 1, 2, 0, 1, 1, 0, 0, 1, 2, 0, 0, 0, 1, 1, 2, 2, 0, 0, 2, 0, 0,\n",
              "       1, 1, 1, 0, 2, 1, 2, 1, 1, 2, 2, 2, 0, 1, 1, 1, 1, 0, 0, 2, 0, 0,\n",
              "       2, 0, 2, 0, 0, 1, 2, 1, 1, 2, 0, 2, 0, 1, 1, 2, 0, 0, 2, 0, 1, 2,\n",
              "       0, 0, 1, 2, 0, 2, 0, 2, 1, 2, 1, 1, 0, 2, 2, 2, 1, 0, 1, 0, 1, 1,\n",
              "       1, 1, 1, 0, 1, 2, 1, 1, 1, 1, 0, 1, 1, 1, 1, 0, 0, 2, 2, 2, 0, 2,\n",
              "       2, 1, 0, 0, 1, 0, 1, 1, 1, 1, 1, 2, 0, 2, 0, 1, 0, 0, 1, 0, 1, 1])"
            ]
          },
          "metadata": {
            "tags": []
          },
          "execution_count": 59
        }
      ]
    },
    {
      "cell_type": "code",
      "metadata": {
        "colab": {
          "base_uri": "https://localhost:8080/",
          "height": 316
        },
        "id": "9Zdpy3ZlVBua",
        "outputId": "8428bf41-ea55-4e96-ef57-17b9678afb83"
      },
      "source": [
        "plot_confusion_matrix(confusion_matrix(y_test,y_pred))"
      ],
      "execution_count": 60,
      "outputs": [
        {
          "output_type": "execute_result",
          "data": {
            "text/plain": [
              "(<Figure size 432x288 with 1 Axes>,\n",
              " <matplotlib.axes._subplots.AxesSubplot at 0x7f086a151890>)"
            ]
          },
          "metadata": {
            "tags": []
          },
          "execution_count": 60
        },
        {
          "output_type": "display_data",
          "data": {
            "image/png": "[encoded data removed]",
            "text/plain": [
              "<Figure size 432x288 with 1 Axes>"
            ]
          },
          "metadata": {
            "tags": [],
            "needs_background": "light"
          }
        }
      ]
    },
    {
      "cell_type": "code",
      "metadata": {
        "colab": {
          "base_uri": "https://localhost:8080/"
        },
        "id": "c2jC0hCyVGvG",
        "outputId": "458839b5-b1d1-43c2-ea58-e331bb40d1f3"
      },
      "source": [
        "print(classification_report(y_test,y_pred))"
      ],
      "execution_count": 62,
      "outputs": [
        {
          "output_type": "stream",
          "text": [
            "              precision    recall  f1-score   support\n",
            "\n",
            "           0       0.67      0.71      0.69       286\n",
            "           1       0.76      0.69      0.72       286\n",
            "           2       0.82      0.86      0.84       286\n",
            "\n",
            "    accuracy                           0.75       858\n",
            "   macro avg       0.75      0.75      0.75       858\n",
            "weighted avg       0.75      0.75      0.75       858\n",
            "\n"
          ],
          "name": "stdout"
        }
      ]
    },
    {
      "cell_type": "markdown",
      "metadata": {
        "id": "9fmUlanAVZPo"
      },
      "source": [
        "## 3.4. Model testing with custom data"
      ]
    },
    {
      "cell_type": "code",
      "metadata": {
        "id": "-jKmGg__VLdU"
      },
      "source": [
        "x = 'hey bitch!'"
      ],
      "execution_count": 79,
      "outputs": []
    },
    {
      "cell_type": "markdown",
      "metadata": {
        "id": "2R23AoqmVoGZ"
      },
      "source": [
        "Let's create a function to make our testings faster and more convenient"
      ]
    },
    {
      "cell_type": "code",
      "metadata": {
        "id": "JIIa157lVmy1"
      },
      "source": [
        "def get_encoded(x):\n",
        "  x = get_clean(x)\n",
        "  x = token.texts_to_sequences([x])\n",
        "  x = pad_sequences(x, max_length, padding = 'post')\n",
        "  return x"
      ],
      "execution_count": 80,
      "outputs": []
    },
    {
      "cell_type": "code",
      "metadata": {
        "colab": {
          "base_uri": "https://localhost:8080/"
        },
        "id": "6BbU5a8BWBog",
        "outputId": "75914147-6664-4492-dcc3-77c6676ac5ba"
      },
      "source": [
        "get_encoded(x)"
      ],
      "execution_count": 81,
      "outputs": [
        {
          "output_type": "execute_result",
          "data": {
            "text/plain": [
              "array([[265,   8,   0,   0,   0,   0,   0,   0,   0,   0,   0,   0,   0,\n",
              "          0,   0,   0,   0,   0,   0,   0,   0,   0,   0,   0,   0,   0,\n",
              "          0,   0,   0,   0,   0,   0,   0,   0,   0,   0,   0,   0,   0,\n",
              "          0,   0,   0,   0,   0,   0,   0,   0,   0,   0,   0,   0,   0,\n",
              "          0,   0,   0,   0,   0,   0,   0,   0,   0,   0,   0,   0,   0,\n",
              "          0,   0,   0,   0,   0,   0,   0,   0,   0,   0,   0,   0,   0,\n",
              "          0,   0,   0,   0,   0,   0,   0,   0,   0,   0,   0,   0,   0,\n",
              "          0,   0,   0,   0,   0,   0,   0,   0,   0,   0,   0,   0,   0,\n",
              "          0,   0,   0,   0,   0,   0,   0,   0,   0,   0,   0,   0,   0,\n",
              "          0,   0,   0]], dtype=int32)"
            ]
          },
          "metadata": {
            "tags": []
          },
          "execution_count": 81
        }
      ]
    },
    {
      "cell_type": "code",
      "metadata": {
        "colab": {
          "base_uri": "https://localhost:8080/"
        },
        "id": "-pO0bCRYWC3y",
        "outputId": "39a619c3-7494-4a52-af36-e274fe0c9d99"
      },
      "source": [
        "np.argmax(model.predict(get_encoded(x)),axis = -1)"
      ],
      "execution_count": 82,
      "outputs": [
        {
          "output_type": "execute_result",
          "data": {
            "text/plain": [
              "array([1])"
            ]
          },
          "metadata": {
            "tags": []
          },
          "execution_count": 82
        }
      ]
    },
    {
      "cell_type": "markdown",
      "metadata": {
        "id": "_sz3gWj9W5hH"
      },
      "source": [
        "This is clearly a offensive a speech."
      ]
    },
    {
      "cell_type": "markdown",
      "metadata": {
        "id": "JDmZCN0AXQ9o"
      },
      "source": [
        "# 4. Store the model"
      ]
    },
    {
      "cell_type": "code",
      "metadata": {
        "id": "dwpqdl1vXhb8"
      },
      "source": [
        "import pickle"
      ],
      "execution_count": 83,
      "outputs": []
    },
    {
      "cell_type": "code",
      "metadata": {
        "id": "FVT2YKWgWQbL"
      },
      "source": [
        "model.save('model_hate_speech.h5')\n",
        "pickle.dump(token, open('token.pkl','wb'))"
      ],
      "execution_count": 84,
      "outputs": []
    },
    {
      "cell_type": "code",
      "metadata": {
        "id": "zPwKd-reXvcT"
      },
      "source": [
        ""
      ],
      "execution_count": null,
      "outputs": []
    }
  ]
}